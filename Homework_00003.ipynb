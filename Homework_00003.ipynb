{
  "cells": [
    {
      "cell_type": "markdown",
      "source": [
        "# Введение в искусственные нейронные сети\n",
        "# Урок 3. TensorFlow"
      ],
      "metadata": {
        "id": "OmV0IebrznzN"
      }
    },
    {
      "cell_type": "markdown",
      "source": [
        "1.  Постройте нейронную сеть(берем простую линейную сеть, которую разбирали на уроке: меняем число слоев, число нейронов , типы активации, тип оптимизатора) на датасет from sklearn.datasets import load_boston.\n",
        "\n",
        "-1. Измените функцию потерь и метрику для этой задачи. Постройте 10-15 вариантов и сведите результаты их работы в таблицу Опишите, какого результата вы добились от нейросети? Что помогло вам улучшить ее точность?\n",
        "\n",
        "-2. Поработайте с документацией TensorFlow 2. Найти 2-3 полезные команды TensorFlow, не разобранные на уроке (полезные для Вас).\n",
        "\n",
        "1-2. (*) Попробуйте обучить нейронную сеть на TensorFlow 2 на датасете imdb_reviews .Опишите, какого результата вы добились от нейросети? Что помогло вам улучшить ее точность?"
      ],
      "metadata": {
        "id": "PTjxfilYzokE"
      }
    },
    {
      "cell_type": "code",
      "source": [
        "import numpy as np\n",
        "\n",
        "import pandas as pd\n",
        "\n",
        "from tqdm import tqdm\n",
        "\n",
        "import itertools\n",
        "\n",
        "from sklearn.metrics import confusion_matrix, ConfusionMatrixDisplay\n",
        "from sklearn.model_selection import train_test_split\n",
        "from sklearn.preprocessing import MinMaxScaler, StandardScaler\n",
        "from sklearn.metrics import mean_squared_error, r2_score\n",
        "from sklearn.metrics import mean_squared_error as sklearn_mean_squared_error \n",
        "from sklearn.datasets import load_boston\n",
        "\n",
        "import matplotlib.pyplot as plt\n",
        "\n",
        "import tensorflow as tf\n",
        "from tensorflow.keras.datasets import mnist\n",
        "\n",
        "from tensorflow.keras.models import Sequential, Model\n",
        "from tensorflow.keras.layers import Input, Flatten, Dense\n",
        "from tensorflow.keras.utils import to_categorical, plot_model\n",
        "from tensorflow.keras.optimizers import Adam, SGD\n",
        "from tensorflow.keras.losses import CategoricalCrossentropy, SparseCategoricalCrossentropy, mean_squared_error # <== !!!\n",
        "from tensorflow.keras.metrics import RootMeanSquaredError, MeanSquaredError\n",
        "\n",
        "import keras\n",
        "from keras.callbacks import EarlyStopping\n",
        "from keras.layers import Dense\n",
        "from keras.models import Sequential\n",
        "from keras.utils import to_categorical\n",
        "\n",
        "from keras.optimizers import SGD\n",
        "from keras.optimizers import Adagrad\n",
        "from keras.optimizers import RMSprop\n",
        "from keras.optimizers import Adam"
      ],
      "metadata": {
        "id": "Q3oUZjQxIPdS"
      },
      "execution_count": null,
      "outputs": []
    },
    {
      "cell_type": "markdown",
      "metadata": {
        "id": "2FtdAU3izdRg"
      },
      "source": [
        "# Загрузка данных"
      ]
    },
    {
      "cell_type": "code",
      "execution_count": null,
      "metadata": {
        "ExecuteTime": {
          "end_time": "2021-05-10T22:38:12.552549Z",
          "start_time": "2021-05-10T22:38:12.441505Z"
        },
        "id": "m_daOhrQzdRg",
        "colab": {
          "base_uri": "https://localhost:8080/",
          "height": 888
        },
        "outputId": "f4087769-0e94-40b8-d799-720866d543fa"
      },
      "outputs": [
        {
          "output_type": "stream",
          "name": "stdout",
          "text": [
            "(506, 14)\n"
          ]
        },
        {
          "output_type": "stream",
          "name": "stderr",
          "text": [
            "/usr/local/lib/python3.7/dist-packages/sklearn/utils/deprecation.py:87: FutureWarning: Function load_boston is deprecated; `load_boston` is deprecated in 1.0 and will be removed in 1.2.\n",
            "\n",
            "    The Boston housing prices dataset has an ethical problem. You can refer to\n",
            "    the documentation of this function for further details.\n",
            "\n",
            "    The scikit-learn maintainers therefore strongly discourage the use of this\n",
            "    dataset unless the purpose of the code is to study and educate about\n",
            "    ethical issues in data science and machine learning.\n",
            "\n",
            "    In this special case, you can fetch the dataset from the original\n",
            "    source::\n",
            "\n",
            "        import pandas as pd\n",
            "        import numpy as np\n",
            "\n",
            "\n",
            "        data_url = \"http://lib.stat.cmu.edu/datasets/boston\"\n",
            "        raw_df = pd.read_csv(data_url, sep=\"\\s+\", skiprows=22, header=None)\n",
            "        data = np.hstack([raw_df.values[::2, :], raw_df.values[1::2, :2]])\n",
            "        target = raw_df.values[1::2, 2]\n",
            "\n",
            "    Alternative datasets include the California housing dataset (i.e.\n",
            "    :func:`~sklearn.datasets.fetch_california_housing`) and the Ames housing\n",
            "    dataset. You can load the datasets as follows::\n",
            "\n",
            "        from sklearn.datasets import fetch_california_housing\n",
            "        housing = fetch_california_housing()\n",
            "\n",
            "    for the California housing dataset and::\n",
            "\n",
            "        from sklearn.datasets import fetch_openml\n",
            "        housing = fetch_openml(name=\"house_prices\", as_frame=True)\n",
            "\n",
            "    for the Ames housing dataset.\n",
            "    \n",
            "  warnings.warn(msg, category=FutureWarning)\n"
          ]
        },
        {
          "output_type": "execute_result",
          "data": {
            "text/html": [
              "<div>\n",
              "<style scoped>\n",
              "    .dataframe tbody tr th:only-of-type {\n",
              "        vertical-align: middle;\n",
              "    }\n",
              "\n",
              "    .dataframe tbody tr th {\n",
              "        vertical-align: top;\n",
              "    }\n",
              "\n",
              "    .dataframe thead th {\n",
              "        text-align: right;\n",
              "    }\n",
              "</style>\n",
              "<table border=\"1\" class=\"dataframe\">\n",
              "  <thead>\n",
              "    <tr style=\"text-align: right;\">\n",
              "      <th></th>\n",
              "      <th>CRIM</th>\n",
              "      <th>ZN</th>\n",
              "      <th>INDUS</th>\n",
              "      <th>CHAS</th>\n",
              "      <th>NOX</th>\n",
              "      <th>RM</th>\n",
              "      <th>AGE</th>\n",
              "      <th>DIS</th>\n",
              "      <th>RAD</th>\n",
              "      <th>TAX</th>\n",
              "      <th>PTRATIO</th>\n",
              "      <th>B</th>\n",
              "      <th>LSTAT</th>\n",
              "      <th>target</th>\n",
              "    </tr>\n",
              "  </thead>\n",
              "  <tbody>\n",
              "    <tr>\n",
              "      <th>0</th>\n",
              "      <td>0.00632</td>\n",
              "      <td>18.0</td>\n",
              "      <td>2.31</td>\n",
              "      <td>0.0</td>\n",
              "      <td>0.538</td>\n",
              "      <td>6.575</td>\n",
              "      <td>65.2</td>\n",
              "      <td>4.0900</td>\n",
              "      <td>1.0</td>\n",
              "      <td>296.0</td>\n",
              "      <td>15.3</td>\n",
              "      <td>396.90</td>\n",
              "      <td>4.98</td>\n",
              "      <td>24.0</td>\n",
              "    </tr>\n",
              "    <tr>\n",
              "      <th>1</th>\n",
              "      <td>0.02731</td>\n",
              "      <td>0.0</td>\n",
              "      <td>7.07</td>\n",
              "      <td>0.0</td>\n",
              "      <td>0.469</td>\n",
              "      <td>6.421</td>\n",
              "      <td>78.9</td>\n",
              "      <td>4.9671</td>\n",
              "      <td>2.0</td>\n",
              "      <td>242.0</td>\n",
              "      <td>17.8</td>\n",
              "      <td>396.90</td>\n",
              "      <td>9.14</td>\n",
              "      <td>21.6</td>\n",
              "    </tr>\n",
              "    <tr>\n",
              "      <th>2</th>\n",
              "      <td>0.02729</td>\n",
              "      <td>0.0</td>\n",
              "      <td>7.07</td>\n",
              "      <td>0.0</td>\n",
              "      <td>0.469</td>\n",
              "      <td>7.185</td>\n",
              "      <td>61.1</td>\n",
              "      <td>4.9671</td>\n",
              "      <td>2.0</td>\n",
              "      <td>242.0</td>\n",
              "      <td>17.8</td>\n",
              "      <td>392.83</td>\n",
              "      <td>4.03</td>\n",
              "      <td>34.7</td>\n",
              "    </tr>\n",
              "    <tr>\n",
              "      <th>3</th>\n",
              "      <td>0.03237</td>\n",
              "      <td>0.0</td>\n",
              "      <td>2.18</td>\n",
              "      <td>0.0</td>\n",
              "      <td>0.458</td>\n",
              "      <td>6.998</td>\n",
              "      <td>45.8</td>\n",
              "      <td>6.0622</td>\n",
              "      <td>3.0</td>\n",
              "      <td>222.0</td>\n",
              "      <td>18.7</td>\n",
              "      <td>394.63</td>\n",
              "      <td>2.94</td>\n",
              "      <td>33.4</td>\n",
              "    </tr>\n",
              "    <tr>\n",
              "      <th>4</th>\n",
              "      <td>0.06905</td>\n",
              "      <td>0.0</td>\n",
              "      <td>2.18</td>\n",
              "      <td>0.0</td>\n",
              "      <td>0.458</td>\n",
              "      <td>7.147</td>\n",
              "      <td>54.2</td>\n",
              "      <td>6.0622</td>\n",
              "      <td>3.0</td>\n",
              "      <td>222.0</td>\n",
              "      <td>18.7</td>\n",
              "      <td>396.90</td>\n",
              "      <td>5.33</td>\n",
              "      <td>36.2</td>\n",
              "    </tr>\n",
              "  </tbody>\n",
              "</table>\n",
              "</div>"
            ],
            "text/plain": [
              "      CRIM    ZN  INDUS  CHAS    NOX  ...    TAX  PTRATIO       B  LSTAT  target\n",
              "0  0.00632  18.0   2.31   0.0  0.538  ...  296.0     15.3  396.90   4.98    24.0\n",
              "1  0.02731   0.0   7.07   0.0  0.469  ...  242.0     17.8  396.90   9.14    21.6\n",
              "2  0.02729   0.0   7.07   0.0  0.469  ...  242.0     17.8  392.83   4.03    34.7\n",
              "3  0.03237   0.0   2.18   0.0  0.458  ...  222.0     18.7  394.63   2.94    33.4\n",
              "4  0.06905   0.0   2.18   0.0  0.458  ...  222.0     18.7  396.90   5.33    36.2\n",
              "\n",
              "[5 rows x 14 columns]"
            ]
          },
          "metadata": {},
          "execution_count": 2
        }
      ],
      "source": [
        "boston_data = load_boston()\n",
        "df = pd.DataFrame(boston_data.data, columns=boston_data.feature_names)\n",
        "df['target'] = pd.Series(boston_data.target)\n",
        "print(df.shape)\n",
        "df.head()"
      ]
    },
    {
      "cell_type": "markdown",
      "metadata": {
        "ExecuteTime": {
          "end_time": "2021-05-06T13:29:58.539246Z",
          "start_time": "2021-05-06T13:29:58.533246Z"
        },
        "id": "_krsK7YqzdRh"
      },
      "source": [
        "#print(boston_data.DESCR)\n",
        "- CRIM     - per capita crime rate by town\n",
        "- ZN       - proportion of residential land zoned for lots over 25,000 sq.ft.\n",
        "- INDUS    - proportion of non-retail business acres per town\n",
        "- CHAS     - Charles River dummy variable (= 1 if tract bounds river; 0 otherwise)\n",
        "- NOX      - nitric oxides concentration (parts per 10 million)\n",
        "- RM       - average number of rooms per dwelling\n",
        "- AGE      - proportion of owner-occupied units built prior to 1940\n",
        "- DIS      - weighted distances to five Boston employment centres\n",
        "- RAD      - index of accessibility to radial highways\n",
        "- TAX      - full-value property-tax rate per `$10,000`\n",
        "- PTRATIO  - pupil-teacher ratio by town\n",
        "- B        - 1000(Bk - 0.63)^2 where Bk is the proportion of blacks by town\n",
        "- LSTAT    - % lower status of the population\n",
        "- MEDV     - Median value of owner-occupied homes in $1000's"
      ]
    },
    {
      "cell_type": "code",
      "execution_count": null,
      "metadata": {
        "ExecuteTime": {
          "end_time": "2021-05-10T22:38:12.568550Z",
          "start_time": "2021-05-10T22:38:12.554505Z"
        },
        "id": "lmbI8J8GzdRh"
      },
      "outputs": [],
      "source": [
        "X = df.drop(['target'], axis=1)\n",
        "y = df['target']"
      ]
    },
    {
      "cell_type": "code",
      "execution_count": null,
      "metadata": {
        "ExecuteTime": {
          "end_time": "2021-05-10T22:38:12.584552Z",
          "start_time": "2021-05-10T22:38:12.569505Z"
        },
        "id": "06chB6D0zdRh"
      },
      "outputs": [],
      "source": [
        "MinMaxSc = MinMaxScaler()\n",
        "X_scaled = MinMaxSc.fit_transform(X)\n",
        "\n",
        "# sc = StandardScaler()\n",
        "# X_scaled = sc.fit_transform(X)"
      ]
    },
    {
      "cell_type": "code",
      "execution_count": null,
      "metadata": {
        "ExecuteTime": {
          "end_time": "2021-05-10T22:38:12.600550Z",
          "start_time": "2021-05-10T22:38:12.585505Z"
        },
        "id": "8ZdFC9QRzdRh"
      },
      "outputs": [],
      "source": [
        "X_train, X_test, y_train, y_test = train_test_split(X_scaled, y, test_size = 0.25, random_state=1)"
      ]
    },
    {
      "cell_type": "code",
      "execution_count": null,
      "metadata": {
        "ExecuteTime": {
          "end_time": "2021-05-10T22:38:12.616542Z",
          "start_time": "2021-05-10T22:38:12.601505Z"
        },
        "id": "Pfoz5SAdzdRi"
      },
      "outputs": [],
      "source": [
        "# создадим пустой датафрейм\n",
        "df = pd.DataFrame(columns=['No. layers', 'No. neurons', 'act_func', 'opt', 'train', 'test'])\n",
        "i = 0"
      ]
    },
    {
      "cell_type": "markdown",
      "metadata": {
        "id": "YzS6WkttzdRi"
      },
      "source": [
        "# 2. 3 слоя, 256 нейронов, ReLU, Adam + Early stoping"
      ]
    },
    {
      "cell_type": "markdown",
      "metadata": {
        "id": "DrOvIbMyzdRi"
      },
      "source": [
        "**EarlyStopping**: прекращение обучения, когда параметр monitor перестает улучшаться.\n",
        "\n",
        "Аргументы\n",
        "\n",
        "- `monitor`: параметр для мониторинга\n",
        "- `min_delta`: минимальное значение изменения величины monitor, расцениваемое как улучшение, то есть, если абсолютное изменение меньше min_delta, то улучшение не засчитывается\n",
        "- `patience`: число эпох, за которые величина monitor не улучшается, после которых обучение будет остановлено. Проверочные величины могут производиться не после каждой эпохи если validation_freq (model.fit(validation_freq=5)) больше единицы.\n",
        "- `verbose`: режим отображения, 0 или 1.\n",
        "- `mode`: один из {auto, min, max}. В режиме min, обучение остановится когда величина monitor перестанет уменьшаться; в режиме max, обучение остановится когда величина monitor перестанет увеличиваться; в режиме auto, mode выбирается в зависимости от имени monitor.\n",
        "- `baseline`: значение, которое должна достичь величина monitor. Обучение прекратится, если модель не достигла baseline.\n",
        "- `restore_best_weights`: восстанавливать ли веса модели с эпохи с лучшем значением параметра monitor. Если False, веса модели будут загружены из последней шага обучения."
      ]
    },
    {
      "cell_type": "code",
      "execution_count": null,
      "metadata": {
        "ExecuteTime": {
          "end_time": "2021-05-10T22:38:14.935796Z",
          "start_time": "2021-05-10T22:38:12.617505Z"
        },
        "id": "8_6cFHOizdRi",
        "colab": {
          "base_uri": "https://localhost:8080/"
        },
        "outputId": "0e8e68ad-526e-496b-bea9-ca1b9df527e4"
      },
      "outputs": [
        {
          "output_type": "stream",
          "name": "stdout",
          "text": [
            "3.958906303685872\n",
            "3.750382989932957\n"
          ]
        }
      ],
      "source": [
        "early_stop = EarlyStopping(monitor='val_loss',\n",
        "                           min_delta=0,\n",
        "                           patience=100,\n",
        "                           verbose=1,\n",
        "                           mode='auto',\n",
        "                           baseline=None,\n",
        "                           restore_best_weights=False)\n",
        "\n",
        "input_layer = Input(shape=(X_train.shape[1],))\n",
        "dense_layer_1 = Dense(256, activation='relu')(input_layer)\n",
        "dense_layer_2 = Dense(256, activation='relu')(dense_layer_1)\n",
        "dense_layer_3 = Dense(256, activation='relu')(dense_layer_2)\n",
        "output = Dense(1)(dense_layer_3)\n",
        "\n",
        "model = Model(inputs=input_layer, outputs=output)\n",
        "model.compile(loss=\"mean_squared_error\", optimizer=\"adam\", metrics=[\"mean_squared_error\"])\n",
        "\n",
        "history = model.fit(X_train, y_train, \n",
        "                    batch_size=5, \n",
        "                    epochs=10, \n",
        "                    verbose=0,\n",
        "                    callbacks=[early_stop],\n",
        "                    validation_data=(X_test, y_test),\n",
        "                    #validation_split=0.2\n",
        "                   )\n",
        "\n",
        "y_pred_train = model.predict(X_train)\n",
        "print(np.sqrt(sklearn_mean_squared_error(y_train, y_pred_train)))\n",
        "\n",
        "y_pred_test = model.predict(X_test)\n",
        "print(np.sqrt(sklearn_mean_squared_error(y_test, y_pred_test)))\n",
        "\n",
        "r2_train = round(r2_score(y_train, y_pred_train), 4)\n",
        "r2_test = round(r2_score(y_test, y_pred_test), 4)"
      ]
    },
    {
      "cell_type": "code",
      "execution_count": null,
      "metadata": {
        "ExecuteTime": {
          "end_time": "2021-05-10T22:38:14.951837Z",
          "start_time": "2021-05-10T22:38:14.937798Z"
        },
        "id": "8zD_gRxJzdRj",
        "colab": {
          "base_uri": "https://localhost:8080/"
        },
        "outputId": "46f9db7b-c3b2-480c-ff3e-e45c2a24c3ec"
      },
      "outputs": [
        {
          "output_type": "execute_result",
          "data": {
            "text/plain": [
              "[50, 70, 98, 137, 191, 266, 370, 516, 718, 1000]"
            ]
          },
          "metadata": {},
          "execution_count": 8
        }
      ],
      "source": [
        "n_neurons = [int(i) for i in np.geomspace(51, 1000, num=10, axis=0).tolist()]\n",
        "n_neurons"
      ]
    },
    {
      "cell_type": "markdown",
      "metadata": {
        "id": "lOQyEW_IzdRj"
      },
      "source": [
        "# batch size"
      ]
    },
    {
      "cell_type": "markdown",
      "metadata": {
        "id": "zeHR1Zb8zdRj"
      },
      "source": [
        "## 3 слоя, 50-100 нейронов, ReLU, Adam, batch size = 10"
      ]
    },
    {
      "cell_type": "code",
      "execution_count": null,
      "metadata": {
        "ExecuteTime": {
          "end_time": "2021-05-10T22:38:14.967797Z",
          "start_time": "2021-05-10T22:38:14.953797Z"
        },
        "id": "M6hoQEifzdRk"
      },
      "outputs": [],
      "source": [
        "# создадим пустой датафрейм\n",
        "df = pd.DataFrame(columns=['No. layers', 'No. neurons', 'act_func', 'opt', 'train', 'test'])\n",
        "i = 0"
      ]
    },
    {
      "cell_type": "code",
      "execution_count": null,
      "metadata": {
        "ExecuteTime": {
          "end_time": "2021-05-10T22:38:25.503532Z",
          "start_time": "2021-05-10T22:38:14.970807Z"
        },
        "id": "4VPW0k9CzdRk",
        "colab": {
          "base_uri": "https://localhost:8080/",
          "height": 381
        },
        "outputId": "049f77e4-ecce-42b5-f51f-8a0934e2acef"
      },
      "outputs": [
        {
          "output_type": "stream",
          "name": "stderr",
          "text": [
            "100%|██████████| 10/10 [00:40<00:00,  4.01s/it]\n"
          ]
        },
        {
          "output_type": "execute_result",
          "data": {
            "text/html": [
              "<div>\n",
              "<style scoped>\n",
              "    .dataframe tbody tr th:only-of-type {\n",
              "        vertical-align: middle;\n",
              "    }\n",
              "\n",
              "    .dataframe tbody tr th {\n",
              "        vertical-align: top;\n",
              "    }\n",
              "\n",
              "    .dataframe thead th {\n",
              "        text-align: right;\n",
              "    }\n",
              "</style>\n",
              "<table border=\"1\" class=\"dataframe\">\n",
              "  <thead>\n",
              "    <tr style=\"text-align: right;\">\n",
              "      <th></th>\n",
              "      <th>No. layers</th>\n",
              "      <th>No. neurons</th>\n",
              "      <th>act_func</th>\n",
              "      <th>opt</th>\n",
              "      <th>train</th>\n",
              "      <th>test</th>\n",
              "    </tr>\n",
              "  </thead>\n",
              "  <tbody>\n",
              "    <tr>\n",
              "      <th>0</th>\n",
              "      <td>3</td>\n",
              "      <td>50</td>\n",
              "      <td>ReLu</td>\n",
              "      <td>Adam</td>\n",
              "      <td>-0.3498</td>\n",
              "      <td>-0.3102</td>\n",
              "    </tr>\n",
              "    <tr>\n",
              "      <th>1</th>\n",
              "      <td>3</td>\n",
              "      <td>70</td>\n",
              "      <td>ReLu</td>\n",
              "      <td>Adam</td>\n",
              "      <td>-0.2361</td>\n",
              "      <td>-0.2106</td>\n",
              "    </tr>\n",
              "    <tr>\n",
              "      <th>2</th>\n",
              "      <td>3</td>\n",
              "      <td>98</td>\n",
              "      <td>ReLu</td>\n",
              "      <td>Adam</td>\n",
              "      <td>0.1541</td>\n",
              "      <td>0.1524</td>\n",
              "    </tr>\n",
              "    <tr>\n",
              "      <th>3</th>\n",
              "      <td>3</td>\n",
              "      <td>137</td>\n",
              "      <td>ReLu</td>\n",
              "      <td>Adam</td>\n",
              "      <td>0.1504</td>\n",
              "      <td>0.1364</td>\n",
              "    </tr>\n",
              "    <tr>\n",
              "      <th>4</th>\n",
              "      <td>3</td>\n",
              "      <td>191</td>\n",
              "      <td>ReLu</td>\n",
              "      <td>Adam</td>\n",
              "      <td>0.2836</td>\n",
              "      <td>0.2697</td>\n",
              "    </tr>\n",
              "    <tr>\n",
              "      <th>5</th>\n",
              "      <td>3</td>\n",
              "      <td>266</td>\n",
              "      <td>ReLu</td>\n",
              "      <td>Adam</td>\n",
              "      <td>0.3467</td>\n",
              "      <td>0.3453</td>\n",
              "    </tr>\n",
              "    <tr>\n",
              "      <th>6</th>\n",
              "      <td>3</td>\n",
              "      <td>370</td>\n",
              "      <td>ReLu</td>\n",
              "      <td>Adam</td>\n",
              "      <td>0.3889</td>\n",
              "      <td>0.4006</td>\n",
              "    </tr>\n",
              "    <tr>\n",
              "      <th>7</th>\n",
              "      <td>3</td>\n",
              "      <td>516</td>\n",
              "      <td>ReLu</td>\n",
              "      <td>Adam</td>\n",
              "      <td>0.4088</td>\n",
              "      <td>0.4425</td>\n",
              "    </tr>\n",
              "    <tr>\n",
              "      <th>8</th>\n",
              "      <td>3</td>\n",
              "      <td>718</td>\n",
              "      <td>ReLu</td>\n",
              "      <td>Adam</td>\n",
              "      <td>0.4504</td>\n",
              "      <td>0.4892</td>\n",
              "    </tr>\n",
              "    <tr>\n",
              "      <th>9</th>\n",
              "      <td>3</td>\n",
              "      <td>1000</td>\n",
              "      <td>ReLu</td>\n",
              "      <td>Adam</td>\n",
              "      <td>0.4889</td>\n",
              "      <td>0.5300</td>\n",
              "    </tr>\n",
              "  </tbody>\n",
              "</table>\n",
              "</div>"
            ],
            "text/plain": [
              "  No. layers No. neurons act_func   opt   train    test\n",
              "0          3          50     ReLu  Adam -0.3498 -0.3102\n",
              "1          3          70     ReLu  Adam -0.2361 -0.2106\n",
              "2          3          98     ReLu  Adam  0.1541  0.1524\n",
              "3          3         137     ReLu  Adam  0.1504  0.1364\n",
              "4          3         191     ReLu  Adam  0.2836  0.2697\n",
              "5          3         266     ReLu  Adam  0.3467  0.3453\n",
              "6          3         370     ReLu  Adam  0.3889  0.4006\n",
              "7          3         516     ReLu  Adam  0.4088  0.4425\n",
              "8          3         718     ReLu  Adam  0.4504  0.4892\n",
              "9          3        1000     ReLu  Adam  0.4889  0.5300"
            ]
          },
          "metadata": {},
          "execution_count": 10
        }
      ],
      "source": [
        "for n_neuron in tqdm(n_neurons):\n",
        "    input_layer = Input(shape=(X_train.shape[1],))\n",
        "    dense_layer_1 = Dense(n_neuron, activation='relu')(input_layer)\n",
        "    output = Dense(1)(dense_layer_1)\n",
        "\n",
        "    model = Model(inputs=input_layer, outputs=output)\n",
        "    model.compile(loss=\"mean_squared_error\", optimizer=\"adam\", metrics=[\"mean_squared_error\"])\n",
        "\n",
        "    history = model.fit(X_train, y_train, \n",
        "                        batch_size=10, \n",
        "                        epochs=10, \n",
        "                        verbose=0,\n",
        "                        #callbacks=[early_stop],\n",
        "                        validation_data=(X_test, y_test),\n",
        "                        #validation_split=0.2\n",
        "                       )\n",
        "\n",
        "    y_pred_train = model.predict(X_train)\n",
        "    #print(np.sqrt(sklearn_mean_squared_error(y_train, y_pred_train)))\n",
        "\n",
        "    y_pred_test = model.predict(X_test)\n",
        "    #print(np.sqrt(sklearn_mean_squared_error(y_test, y_pred_test)))\n",
        "\n",
        "    r2_train = round(r2_score(y_train, y_pred_train), 4)\n",
        "    r2_test = round(r2_score(y_test, y_pred_test), 4)\n",
        "\n",
        "    df.loc[i] = [3, n_neuron, 'ReLu', 'Adam', r2_train, r2_test]\n",
        "    i += 1\n",
        "df"
      ]
    },
    {
      "cell_type": "code",
      "execution_count": null,
      "metadata": {
        "ExecuteTime": {
          "end_time": "2021-05-10T22:38:25.662596Z",
          "start_time": "2021-05-10T22:38:25.504534Z"
        },
        "id": "mnvuiguAzdRk",
        "colab": {
          "base_uri": "https://localhost:8080/",
          "height": 264
        },
        "outputId": "4845a781-a537-41b1-9a7f-b9444afa4287"
      },
      "outputs": [
        {
          "output_type": "display_data",
          "data": {
            "image/png": "[encoded data removed]",
            "text/plain": [
              "<Figure size 432x288 with 1 Axes>"
            ]
          },
          "metadata": {
            "needs_background": "light"
          }
        }
      ],
      "source": [
        "plt.plot(df['No. neurons'], df['train'], label='train')\n",
        "plt.plot(df['No. neurons'], df['test'], label='test')\n",
        "plt.legend();"
      ]
    },
    {
      "cell_type": "markdown",
      "metadata": {
        "id": "Xnt54zKazdRk"
      },
      "source": [
        "## 3 слоя, 50-100 нейронов, ReLU, Adam, batch size = 5¶"
      ]
    },
    {
      "cell_type": "code",
      "execution_count": null,
      "metadata": {
        "ExecuteTime": {
          "end_time": "2021-05-10T22:38:25.677603Z",
          "start_time": "2021-05-10T22:38:25.663568Z"
        },
        "id": "GdQ_RoFOzdRl"
      },
      "outputs": [],
      "source": [
        "# создадим пустой датафрейм\n",
        "df = pd.DataFrame(columns=['No. layers', 'No. neurons', 'act_func', 'opt', 'train', 'test'])\n",
        "i = 0"
      ]
    },
    {
      "cell_type": "code",
      "execution_count": null,
      "metadata": {
        "ExecuteTime": {
          "end_time": "2021-05-10T22:38:38.419848Z",
          "start_time": "2021-05-10T22:38:25.679566Z"
        },
        "id": "tQkNo9IEzdRl",
        "colab": {
          "base_uri": "https://localhost:8080/",
          "height": 381
        },
        "outputId": "2cd981ec-605a-46ed-97be-4e3125d53cc8"
      },
      "outputs": [
        {
          "output_type": "stream",
          "name": "stderr",
          "text": [
            "100%|██████████| 10/10 [00:40<00:00,  4.04s/it]\n"
          ]
        },
        {
          "output_type": "execute_result",
          "data": {
            "text/html": [
              "<div>\n",
              "<style scoped>\n",
              "    .dataframe tbody tr th:only-of-type {\n",
              "        vertical-align: middle;\n",
              "    }\n",
              "\n",
              "    .dataframe tbody tr th {\n",
              "        vertical-align: top;\n",
              "    }\n",
              "\n",
              "    .dataframe thead th {\n",
              "        text-align: right;\n",
              "    }\n",
              "</style>\n",
              "<table border=\"1\" class=\"dataframe\">\n",
              "  <thead>\n",
              "    <tr style=\"text-align: right;\">\n",
              "      <th></th>\n",
              "      <th>No. layers</th>\n",
              "      <th>No. neurons</th>\n",
              "      <th>act_func</th>\n",
              "      <th>opt</th>\n",
              "      <th>train</th>\n",
              "      <th>test</th>\n",
              "    </tr>\n",
              "  </thead>\n",
              "  <tbody>\n",
              "    <tr>\n",
              "      <th>0</th>\n",
              "      <td>3</td>\n",
              "      <td>50</td>\n",
              "      <td>ReLu</td>\n",
              "      <td>Adam</td>\n",
              "      <td>0.2691</td>\n",
              "      <td>0.2521</td>\n",
              "    </tr>\n",
              "    <tr>\n",
              "      <th>1</th>\n",
              "      <td>3</td>\n",
              "      <td>70</td>\n",
              "      <td>ReLu</td>\n",
              "      <td>Adam</td>\n",
              "      <td>0.3303</td>\n",
              "      <td>0.3291</td>\n",
              "    </tr>\n",
              "    <tr>\n",
              "      <th>2</th>\n",
              "      <td>3</td>\n",
              "      <td>98</td>\n",
              "      <td>ReLu</td>\n",
              "      <td>Adam</td>\n",
              "      <td>0.3860</td>\n",
              "      <td>0.3995</td>\n",
              "    </tr>\n",
              "    <tr>\n",
              "      <th>3</th>\n",
              "      <td>3</td>\n",
              "      <td>137</td>\n",
              "      <td>ReLu</td>\n",
              "      <td>Adam</td>\n",
              "      <td>0.4412</td>\n",
              "      <td>0.4661</td>\n",
              "    </tr>\n",
              "    <tr>\n",
              "      <th>4</th>\n",
              "      <td>3</td>\n",
              "      <td>191</td>\n",
              "      <td>ReLu</td>\n",
              "      <td>Adam</td>\n",
              "      <td>0.4629</td>\n",
              "      <td>0.4811</td>\n",
              "    </tr>\n",
              "    <tr>\n",
              "      <th>5</th>\n",
              "      <td>3</td>\n",
              "      <td>266</td>\n",
              "      <td>ReLu</td>\n",
              "      <td>Adam</td>\n",
              "      <td>0.5123</td>\n",
              "      <td>0.5468</td>\n",
              "    </tr>\n",
              "    <tr>\n",
              "      <th>6</th>\n",
              "      <td>3</td>\n",
              "      <td>370</td>\n",
              "      <td>ReLu</td>\n",
              "      <td>Adam</td>\n",
              "      <td>0.5557</td>\n",
              "      <td>0.6042</td>\n",
              "    </tr>\n",
              "    <tr>\n",
              "      <th>7</th>\n",
              "      <td>3</td>\n",
              "      <td>516</td>\n",
              "      <td>ReLu</td>\n",
              "      <td>Adam</td>\n",
              "      <td>0.5779</td>\n",
              "      <td>0.6216</td>\n",
              "    </tr>\n",
              "    <tr>\n",
              "      <th>8</th>\n",
              "      <td>3</td>\n",
              "      <td>718</td>\n",
              "      <td>ReLu</td>\n",
              "      <td>Adam</td>\n",
              "      <td>0.6141</td>\n",
              "      <td>0.6789</td>\n",
              "    </tr>\n",
              "    <tr>\n",
              "      <th>9</th>\n",
              "      <td>3</td>\n",
              "      <td>1000</td>\n",
              "      <td>ReLu</td>\n",
              "      <td>Adam</td>\n",
              "      <td>0.6588</td>\n",
              "      <td>0.7252</td>\n",
              "    </tr>\n",
              "  </tbody>\n",
              "</table>\n",
              "</div>"
            ],
            "text/plain": [
              "  No. layers No. neurons act_func   opt   train    test\n",
              "0          3          50     ReLu  Adam  0.2691  0.2521\n",
              "1          3          70     ReLu  Adam  0.3303  0.3291\n",
              "2          3          98     ReLu  Adam  0.3860  0.3995\n",
              "3          3         137     ReLu  Adam  0.4412  0.4661\n",
              "4          3         191     ReLu  Adam  0.4629  0.4811\n",
              "5          3         266     ReLu  Adam  0.5123  0.5468\n",
              "6          3         370     ReLu  Adam  0.5557  0.6042\n",
              "7          3         516     ReLu  Adam  0.5779  0.6216\n",
              "8          3         718     ReLu  Adam  0.6141  0.6789\n",
              "9          3        1000     ReLu  Adam  0.6588  0.7252"
            ]
          },
          "metadata": {},
          "execution_count": 13
        }
      ],
      "source": [
        "for n_neuron in tqdm(n_neurons):\n",
        "    input_layer = Input(shape=(X_train.shape[1],))\n",
        "    dense_layer_1 = Dense(n_neuron, activation='relu')(input_layer)\n",
        "    output = Dense(1)(dense_layer_1)\n",
        "\n",
        "    model = Model(inputs=input_layer, outputs=output)\n",
        "    model.compile(loss=\"mean_squared_error\", optimizer=\"adam\", metrics=[\"mean_squared_error\"])\n",
        "\n",
        "    history = model.fit(X_train, y_train, \n",
        "                        batch_size=5, \n",
        "                        epochs=10, \n",
        "                        verbose=0,\n",
        "                        #callbacks=[early_stop],\n",
        "                        validation_data=(X_test, y_test),\n",
        "                        #validation_split=0.2\n",
        "                       )\n",
        "\n",
        "    y_pred_train = model.predict(X_train)\n",
        "    #print(np.sqrt(sklearn_mean_squared_error(y_train, y_pred_train)))\n",
        "\n",
        "    y_pred_test = model.predict(X_test)\n",
        "    #print(np.sqrt(sklearn_mean_squared_error(y_test, y_pred_test)))\n",
        "\n",
        "    r2_train = round(r2_score(y_train, y_pred_train), 4)\n",
        "    r2_test = round(r2_score(y_test, y_pred_test), 4)\n",
        "\n",
        "    df.loc[i] = [3, n_neuron, 'ReLu', 'Adam', r2_train, r2_test]\n",
        "    i += 1\n",
        "df"
      ]
    },
    {
      "cell_type": "code",
      "execution_count": null,
      "metadata": {
        "ExecuteTime": {
          "end_time": "2021-05-10T22:38:38.560904Z",
          "start_time": "2021-05-10T22:38:38.421865Z"
        },
        "scrolled": true,
        "id": "xGh_NWVdzdRl",
        "colab": {
          "base_uri": "https://localhost:8080/",
          "height": 264
        },
        "outputId": "cca76f57-671c-4d47-a3f9-c5bf95233063"
      },
      "outputs": [
        {
          "output_type": "display_data",
          "data": {
            "image/png": "[encoded data removed]",
            "text/plain": [
              "<Figure size 432x288 with 1 Axes>"
            ]
          },
          "metadata": {
            "needs_background": "light"
          }
        }
      ],
      "source": [
        "plt.plot(df['No. neurons'], df['train'], label='train')\n",
        "plt.plot(df['No. neurons'], df['test'], label='test')\n",
        "plt.legend();"
      ]
    },
    {
      "cell_type": "markdown",
      "metadata": {
        "id": "qRrm4df4zdRl"
      },
      "source": [
        "## 3 слоя, 50-100 нейронов, ReLU, Adam, batch size = 1"
      ]
    },
    {
      "cell_type": "code",
      "execution_count": null,
      "metadata": {
        "ExecuteTime": {
          "end_time": "2021-05-10T22:38:38.575937Z",
          "start_time": "2021-05-10T22:38:38.561903Z"
        },
        "id": "xNcjQxYAzdRm"
      },
      "outputs": [],
      "source": [
        "# создадим пустой датафрейм\n",
        "df = pd.DataFrame(columns=['No. layers', 'No. neurons', 'act_func', 'opt', 'train', 'test'])\n",
        "i = 0"
      ]
    },
    {
      "cell_type": "code",
      "execution_count": null,
      "metadata": {
        "ExecuteTime": {
          "end_time": "2021-05-10T22:39:05.608875Z",
          "start_time": "2021-05-10T22:38:38.576941Z"
        },
        "id": "pXa1JJIezdRm",
        "colab": {
          "base_uri": "https://localhost:8080/",
          "height": 381
        },
        "outputId": "d24f3c80-a672-493b-bf9b-decddf188323"
      },
      "outputs": [
        {
          "output_type": "stream",
          "name": "stderr",
          "text": [
            "100%|██████████| 10/10 [02:10<00:00, 13.10s/it]\n"
          ]
        },
        {
          "output_type": "execute_result",
          "data": {
            "text/html": [
              "<div>\n",
              "<style scoped>\n",
              "    .dataframe tbody tr th:only-of-type {\n",
              "        vertical-align: middle;\n",
              "    }\n",
              "\n",
              "    .dataframe tbody tr th {\n",
              "        vertical-align: top;\n",
              "    }\n",
              "\n",
              "    .dataframe thead th {\n",
              "        text-align: right;\n",
              "    }\n",
              "</style>\n",
              "<table border=\"1\" class=\"dataframe\">\n",
              "  <thead>\n",
              "    <tr style=\"text-align: right;\">\n",
              "      <th></th>\n",
              "      <th>No. layers</th>\n",
              "      <th>No. neurons</th>\n",
              "      <th>act_func</th>\n",
              "      <th>opt</th>\n",
              "      <th>train</th>\n",
              "      <th>test</th>\n",
              "    </tr>\n",
              "  </thead>\n",
              "  <tbody>\n",
              "    <tr>\n",
              "      <th>0</th>\n",
              "      <td>3</td>\n",
              "      <td>50</td>\n",
              "      <td>ReLu</td>\n",
              "      <td>Adam</td>\n",
              "      <td>0.5798</td>\n",
              "      <td>0.6194</td>\n",
              "    </tr>\n",
              "    <tr>\n",
              "      <th>1</th>\n",
              "      <td>3</td>\n",
              "      <td>70</td>\n",
              "      <td>ReLu</td>\n",
              "      <td>Adam</td>\n",
              "      <td>0.6227</td>\n",
              "      <td>0.6805</td>\n",
              "    </tr>\n",
              "    <tr>\n",
              "      <th>2</th>\n",
              "      <td>3</td>\n",
              "      <td>98</td>\n",
              "      <td>ReLu</td>\n",
              "      <td>Adam</td>\n",
              "      <td>0.6257</td>\n",
              "      <td>0.6954</td>\n",
              "    </tr>\n",
              "    <tr>\n",
              "      <th>3</th>\n",
              "      <td>3</td>\n",
              "      <td>137</td>\n",
              "      <td>ReLu</td>\n",
              "      <td>Adam</td>\n",
              "      <td>0.6684</td>\n",
              "      <td>0.7437</td>\n",
              "    </tr>\n",
              "    <tr>\n",
              "      <th>4</th>\n",
              "      <td>3</td>\n",
              "      <td>191</td>\n",
              "      <td>ReLu</td>\n",
              "      <td>Adam</td>\n",
              "      <td>0.6844</td>\n",
              "      <td>0.7667</td>\n",
              "    </tr>\n",
              "    <tr>\n",
              "      <th>5</th>\n",
              "      <td>3</td>\n",
              "      <td>266</td>\n",
              "      <td>ReLu</td>\n",
              "      <td>Adam</td>\n",
              "      <td>0.6926</td>\n",
              "      <td>0.7851</td>\n",
              "    </tr>\n",
              "    <tr>\n",
              "      <th>6</th>\n",
              "      <td>3</td>\n",
              "      <td>370</td>\n",
              "      <td>ReLu</td>\n",
              "      <td>Adam</td>\n",
              "      <td>0.6897</td>\n",
              "      <td>0.7773</td>\n",
              "    </tr>\n",
              "    <tr>\n",
              "      <th>7</th>\n",
              "      <td>3</td>\n",
              "      <td>516</td>\n",
              "      <td>ReLu</td>\n",
              "      <td>Adam</td>\n",
              "      <td>0.7077</td>\n",
              "      <td>0.8079</td>\n",
              "    </tr>\n",
              "    <tr>\n",
              "      <th>8</th>\n",
              "      <td>3</td>\n",
              "      <td>718</td>\n",
              "      <td>ReLu</td>\n",
              "      <td>Adam</td>\n",
              "      <td>0.7353</td>\n",
              "      <td>0.8272</td>\n",
              "    </tr>\n",
              "    <tr>\n",
              "      <th>9</th>\n",
              "      <td>3</td>\n",
              "      <td>1000</td>\n",
              "      <td>ReLu</td>\n",
              "      <td>Adam</td>\n",
              "      <td>0.7368</td>\n",
              "      <td>0.8256</td>\n",
              "    </tr>\n",
              "  </tbody>\n",
              "</table>\n",
              "</div>"
            ],
            "text/plain": [
              "  No. layers No. neurons act_func   opt   train    test\n",
              "0          3          50     ReLu  Adam  0.5798  0.6194\n",
              "1          3          70     ReLu  Adam  0.6227  0.6805\n",
              "2          3          98     ReLu  Adam  0.6257  0.6954\n",
              "3          3         137     ReLu  Adam  0.6684  0.7437\n",
              "4          3         191     ReLu  Adam  0.6844  0.7667\n",
              "5          3         266     ReLu  Adam  0.6926  0.7851\n",
              "6          3         370     ReLu  Adam  0.6897  0.7773\n",
              "7          3         516     ReLu  Adam  0.7077  0.8079\n",
              "8          3         718     ReLu  Adam  0.7353  0.8272\n",
              "9          3        1000     ReLu  Adam  0.7368  0.8256"
            ]
          },
          "metadata": {},
          "execution_count": 16
        }
      ],
      "source": [
        "for n_neuron in tqdm(n_neurons):\n",
        "    input_layer = Input(shape=(X_train.shape[1],))\n",
        "    dense_layer_1 = Dense(n_neuron, activation='relu')(input_layer)\n",
        "    output = Dense(1)(dense_layer_1)\n",
        "\n",
        "    model = Model(inputs=input_layer, outputs=output)\n",
        "    model.compile(loss=\"mean_squared_error\", optimizer=\"adam\", metrics=[\"mean_squared_error\"])\n",
        "\n",
        "    history = model.fit(X_train, y_train, \n",
        "                        batch_size=1, \n",
        "                        epochs=10, \n",
        "                        verbose=0,\n",
        "                        #callbacks=[early_stop],\n",
        "                        validation_data=(X_test, y_test),\n",
        "                        #validation_split=0.2\n",
        "                       )\n",
        "\n",
        "    y_pred_train = model.predict(X_train)\n",
        "    #print(np.sqrt(sklearn_mean_squared_error(y_train, y_pred_train)))\n",
        "\n",
        "    y_pred_test = model.predict(X_test)\n",
        "    #print(np.sqrt(sklearn_mean_squared_error(y_test, y_pred_test)))\n",
        "\n",
        "    r2_train = round(r2_score(y_train, y_pred_train), 4)\n",
        "    r2_test = round(r2_score(y_test, y_pred_test), 4)\n",
        "\n",
        "    df.loc[i] = [3, n_neuron, 'ReLu', 'Adam', r2_train, r2_test]\n",
        "    i += 1\n",
        "df"
      ]
    },
    {
      "cell_type": "code",
      "execution_count": null,
      "metadata": {
        "ExecuteTime": {
          "end_time": "2021-05-10T22:39:05.749875Z",
          "start_time": "2021-05-10T22:39:05.610875Z"
        },
        "scrolled": true,
        "id": "fyOCCwqjzdRm",
        "colab": {
          "base_uri": "https://localhost:8080/",
          "height": 264
        },
        "outputId": "ea02dc54-8595-4a3e-f181-8347bab695aa"
      },
      "outputs": [
        {
          "output_type": "display_data",
          "data": {
            "image/png": "[encoded data removed]",
            "text/plain": [
              "<Figure size 432x288 with 1 Axes>"
            ]
          },
          "metadata": {
            "needs_background": "light"
          }
        }
      ],
      "source": [
        "plt.plot(df['No. neurons'], df['train'], label='train')\n",
        "plt.plot(df['No. neurons'], df['test'], label='test')\n",
        "plt.legend();"
      ]
    },
    {
      "cell_type": "markdown",
      "metadata": {
        "id": "DIbqN4TlzdRm"
      },
      "source": [
        "## Вывод:\n",
        "\n",
        "Уменьшение батча ускоряет обучение модели.\n",
        "\n",
        "Дальше будем обучать модели с batch_size = 1"
      ]
    },
    {
      "cell_type": "markdown",
      "metadata": {
        "id": "BAXYHGAtzdRm"
      },
      "source": [
        "# Количество слоев"
      ]
    },
    {
      "cell_type": "markdown",
      "metadata": {
        "id": "jClMiNwjzdRn"
      },
      "source": [
        "## 3 слоя, 50-100 нейронов, ReLU, Adam"
      ]
    },
    {
      "cell_type": "code",
      "execution_count": null,
      "metadata": {
        "ExecuteTime": {
          "end_time": "2021-05-10T22:39:05.765874Z",
          "start_time": "2021-05-10T22:39:05.750874Z"
        },
        "id": "92pNOL7-zdRn"
      },
      "outputs": [],
      "source": [
        "# создадим пустой датафрейм\n",
        "df = pd.DataFrame(columns=['No. layers', 'No. neurons', 'act_func', 'opt', 'train', 'test'])\n",
        "i = 0"
      ]
    },
    {
      "cell_type": "code",
      "execution_count": null,
      "metadata": {
        "ExecuteTime": {
          "end_time": "2021-05-10T22:39:33.276659Z",
          "start_time": "2021-05-10T22:39:05.766875Z"
        },
        "id": "jJuei_L8zdRn",
        "colab": {
          "base_uri": "https://localhost:8080/",
          "height": 381
        },
        "outputId": "55a12f73-da4b-4577-d100-973f653a97a1"
      },
      "outputs": [
        {
          "output_type": "stream",
          "name": "stderr",
          "text": [
            "100%|██████████| 10/10 [02:39<00:00, 15.95s/it]\n"
          ]
        },
        {
          "output_type": "execute_result",
          "data": {
            "text/html": [
              "<div>\n",
              "<style scoped>\n",
              "    .dataframe tbody tr th:only-of-type {\n",
              "        vertical-align: middle;\n",
              "    }\n",
              "\n",
              "    .dataframe tbody tr th {\n",
              "        vertical-align: top;\n",
              "    }\n",
              "\n",
              "    .dataframe thead th {\n",
              "        text-align: right;\n",
              "    }\n",
              "</style>\n",
              "<table border=\"1\" class=\"dataframe\">\n",
              "  <thead>\n",
              "    <tr style=\"text-align: right;\">\n",
              "      <th></th>\n",
              "      <th>No. layers</th>\n",
              "      <th>No. neurons</th>\n",
              "      <th>act_func</th>\n",
              "      <th>opt</th>\n",
              "      <th>train</th>\n",
              "      <th>test</th>\n",
              "    </tr>\n",
              "  </thead>\n",
              "  <tbody>\n",
              "    <tr>\n",
              "      <th>0</th>\n",
              "      <td>3</td>\n",
              "      <td>50</td>\n",
              "      <td>ReLu</td>\n",
              "      <td>Adam</td>\n",
              "      <td>0.5642</td>\n",
              "      <td>0.6111</td>\n",
              "    </tr>\n",
              "    <tr>\n",
              "      <th>1</th>\n",
              "      <td>3</td>\n",
              "      <td>70</td>\n",
              "      <td>ReLu</td>\n",
              "      <td>Adam</td>\n",
              "      <td>0.6026</td>\n",
              "      <td>0.6621</td>\n",
              "    </tr>\n",
              "    <tr>\n",
              "      <th>2</th>\n",
              "      <td>3</td>\n",
              "      <td>98</td>\n",
              "      <td>ReLu</td>\n",
              "      <td>Adam</td>\n",
              "      <td>0.6347</td>\n",
              "      <td>0.7044</td>\n",
              "    </tr>\n",
              "    <tr>\n",
              "      <th>3</th>\n",
              "      <td>3</td>\n",
              "      <td>137</td>\n",
              "      <td>ReLu</td>\n",
              "      <td>Adam</td>\n",
              "      <td>0.6577</td>\n",
              "      <td>0.7428</td>\n",
              "    </tr>\n",
              "    <tr>\n",
              "      <th>4</th>\n",
              "      <td>3</td>\n",
              "      <td>191</td>\n",
              "      <td>ReLu</td>\n",
              "      <td>Adam</td>\n",
              "      <td>0.6371</td>\n",
              "      <td>0.7324</td>\n",
              "    </tr>\n",
              "    <tr>\n",
              "      <th>5</th>\n",
              "      <td>3</td>\n",
              "      <td>266</td>\n",
              "      <td>ReLu</td>\n",
              "      <td>Adam</td>\n",
              "      <td>0.7019</td>\n",
              "      <td>0.7913</td>\n",
              "    </tr>\n",
              "    <tr>\n",
              "      <th>6</th>\n",
              "      <td>3</td>\n",
              "      <td>370</td>\n",
              "      <td>ReLu</td>\n",
              "      <td>Adam</td>\n",
              "      <td>0.7000</td>\n",
              "      <td>0.7911</td>\n",
              "    </tr>\n",
              "    <tr>\n",
              "      <th>7</th>\n",
              "      <td>3</td>\n",
              "      <td>516</td>\n",
              "      <td>ReLu</td>\n",
              "      <td>Adam</td>\n",
              "      <td>0.7289</td>\n",
              "      <td>0.8177</td>\n",
              "    </tr>\n",
              "    <tr>\n",
              "      <th>8</th>\n",
              "      <td>3</td>\n",
              "      <td>718</td>\n",
              "      <td>ReLu</td>\n",
              "      <td>Adam</td>\n",
              "      <td>0.7277</td>\n",
              "      <td>0.8116</td>\n",
              "    </tr>\n",
              "    <tr>\n",
              "      <th>9</th>\n",
              "      <td>3</td>\n",
              "      <td>1000</td>\n",
              "      <td>ReLu</td>\n",
              "      <td>Adam</td>\n",
              "      <td>0.7445</td>\n",
              "      <td>0.8403</td>\n",
              "    </tr>\n",
              "  </tbody>\n",
              "</table>\n",
              "</div>"
            ],
            "text/plain": [
              "  No. layers No. neurons act_func   opt   train    test\n",
              "0          3          50     ReLu  Adam  0.5642  0.6111\n",
              "1          3          70     ReLu  Adam  0.6026  0.6621\n",
              "2          3          98     ReLu  Adam  0.6347  0.7044\n",
              "3          3         137     ReLu  Adam  0.6577  0.7428\n",
              "4          3         191     ReLu  Adam  0.6371  0.7324\n",
              "5          3         266     ReLu  Adam  0.7019  0.7913\n",
              "6          3         370     ReLu  Adam  0.7000  0.7911\n",
              "7          3         516     ReLu  Adam  0.7289  0.8177\n",
              "8          3         718     ReLu  Adam  0.7277  0.8116\n",
              "9          3        1000     ReLu  Adam  0.7445  0.8403"
            ]
          },
          "metadata": {},
          "execution_count": 19
        }
      ],
      "source": [
        "for n_neuron in tqdm(n_neurons):\n",
        "    input_layer = Input(shape=(X_train.shape[1],))\n",
        "    dense_layer_1 = Dense(n_neuron, activation='relu')(input_layer)\n",
        "    output = Dense(1)(dense_layer_1)\n",
        "\n",
        "    model = Model(inputs=input_layer, outputs=output)\n",
        "    model.compile(loss=\"mean_squared_error\", optimizer=\"adam\", metrics=[\"mean_squared_error\"])\n",
        "\n",
        "    history = model.fit(X_train, y_train, \n",
        "                        batch_size=1, \n",
        "                        epochs=10, \n",
        "                        verbose=0,\n",
        "                        #callbacks=[early_stop],\n",
        "                        validation_data=(X_test, y_test),\n",
        "                        #validation_split=0.2\n",
        "                       )\n",
        "\n",
        "    y_pred_train = model.predict(X_train)\n",
        "    #print(np.sqrt(sklearn_mean_squared_error(y_train, y_pred_train)))\n",
        "\n",
        "    y_pred_test = model.predict(X_test)\n",
        "    #print(np.sqrt(sklearn_mean_squared_error(y_test, y_pred_test)))\n",
        "\n",
        "    r2_train = round(r2_score(y_train, y_pred_train), 4)\n",
        "    r2_test = round(r2_score(y_test, y_pred_test), 4)\n",
        "\n",
        "    df.loc[i] = [3, n_neuron, 'ReLu', 'Adam', r2_train, r2_test]\n",
        "    i += 1\n",
        "df"
      ]
    },
    {
      "cell_type": "code",
      "execution_count": null,
      "metadata": {
        "ExecuteTime": {
          "end_time": "2021-05-10T22:39:33.402186Z",
          "start_time": "2021-05-10T22:39:33.277655Z"
        },
        "scrolled": true,
        "id": "xKcWI8b6zdRn",
        "colab": {
          "base_uri": "https://localhost:8080/",
          "height": 265
        },
        "outputId": "353dc6ef-4341-441e-a246-b4a4c6cc261c"
      },
      "outputs": [
        {
          "output_type": "display_data",
          "data": {
            "image/png": "[encoded data removed]",
            "text/plain": [
              "<Figure size 432x288 with 1 Axes>"
            ]
          },
          "metadata": {
            "needs_background": "light"
          }
        }
      ],
      "source": [
        "plt.plot(df['No. neurons'], df['train'], label='train')\n",
        "plt.plot(df['No. neurons'], df['test'], label='test')\n",
        "plt.legend();"
      ]
    },
    {
      "cell_type": "markdown",
      "metadata": {
        "id": "XOSRpUVSzdRn"
      },
      "source": [
        "## 4 слоя, 50-100 нейронов, ReLU, Adam"
      ]
    },
    {
      "cell_type": "code",
      "execution_count": null,
      "metadata": {
        "ExecuteTime": {
          "end_time": "2021-05-10T22:39:33.417186Z",
          "start_time": "2021-05-10T22:39:33.403186Z"
        },
        "id": "VzsxjnrpzdRn"
      },
      "outputs": [],
      "source": [
        "# создадим пустой датафрейм\n",
        "df = pd.DataFrame(columns=['No. layers', 'No. neurons', 'act_func', 'opt', 'train', 'test'])\n",
        "i = 0"
      ]
    },
    {
      "cell_type": "code",
      "execution_count": null,
      "metadata": {
        "ExecuteTime": {
          "end_time": "2021-05-10T22:40:20.953421Z",
          "start_time": "2021-05-10T22:39:33.418185Z"
        },
        "id": "dj4-Oy7qzdRo",
        "colab": {
          "base_uri": "https://localhost:8080/",
          "height": 381
        },
        "outputId": "270205a8-63a8-4c79-916a-2d0270706591"
      },
      "outputs": [
        {
          "output_type": "stream",
          "name": "stderr",
          "text": [
            "100%|██████████| 10/10 [02:52<00:00, 17.30s/it]\n"
          ]
        },
        {
          "output_type": "execute_result",
          "data": {
            "text/html": [
              "<div>\n",
              "<style scoped>\n",
              "    .dataframe tbody tr th:only-of-type {\n",
              "        vertical-align: middle;\n",
              "    }\n",
              "\n",
              "    .dataframe tbody tr th {\n",
              "        vertical-align: top;\n",
              "    }\n",
              "\n",
              "    .dataframe thead th {\n",
              "        text-align: right;\n",
              "    }\n",
              "</style>\n",
              "<table border=\"1\" class=\"dataframe\">\n",
              "  <thead>\n",
              "    <tr style=\"text-align: right;\">\n",
              "      <th></th>\n",
              "      <th>No. layers</th>\n",
              "      <th>No. neurons</th>\n",
              "      <th>act_func</th>\n",
              "      <th>opt</th>\n",
              "      <th>train</th>\n",
              "      <th>test</th>\n",
              "    </tr>\n",
              "  </thead>\n",
              "  <tbody>\n",
              "    <tr>\n",
              "      <th>0</th>\n",
              "      <td>4</td>\n",
              "      <td>50</td>\n",
              "      <td>ReLu</td>\n",
              "      <td>Adam</td>\n",
              "      <td>0.7357</td>\n",
              "      <td>0.8222</td>\n",
              "    </tr>\n",
              "    <tr>\n",
              "      <th>1</th>\n",
              "      <td>4</td>\n",
              "      <td>70</td>\n",
              "      <td>ReLu</td>\n",
              "      <td>Adam</td>\n",
              "      <td>0.7651</td>\n",
              "      <td>0.8616</td>\n",
              "    </tr>\n",
              "    <tr>\n",
              "      <th>2</th>\n",
              "      <td>4</td>\n",
              "      <td>98</td>\n",
              "      <td>ReLu</td>\n",
              "      <td>Adam</td>\n",
              "      <td>0.7546</td>\n",
              "      <td>0.8396</td>\n",
              "    </tr>\n",
              "    <tr>\n",
              "      <th>3</th>\n",
              "      <td>4</td>\n",
              "      <td>137</td>\n",
              "      <td>ReLu</td>\n",
              "      <td>Adam</td>\n",
              "      <td>0.7141</td>\n",
              "      <td>0.7905</td>\n",
              "    </tr>\n",
              "    <tr>\n",
              "      <th>4</th>\n",
              "      <td>4</td>\n",
              "      <td>191</td>\n",
              "      <td>ReLu</td>\n",
              "      <td>Adam</td>\n",
              "      <td>0.7167</td>\n",
              "      <td>0.8030</td>\n",
              "    </tr>\n",
              "    <tr>\n",
              "      <th>5</th>\n",
              "      <td>4</td>\n",
              "      <td>266</td>\n",
              "      <td>ReLu</td>\n",
              "      <td>Adam</td>\n",
              "      <td>0.8296</td>\n",
              "      <td>0.8856</td>\n",
              "    </tr>\n",
              "    <tr>\n",
              "      <th>6</th>\n",
              "      <td>4</td>\n",
              "      <td>370</td>\n",
              "      <td>ReLu</td>\n",
              "      <td>Adam</td>\n",
              "      <td>0.8071</td>\n",
              "      <td>0.8566</td>\n",
              "    </tr>\n",
              "    <tr>\n",
              "      <th>7</th>\n",
              "      <td>4</td>\n",
              "      <td>516</td>\n",
              "      <td>ReLu</td>\n",
              "      <td>Adam</td>\n",
              "      <td>0.8306</td>\n",
              "      <td>0.8866</td>\n",
              "    </tr>\n",
              "    <tr>\n",
              "      <th>8</th>\n",
              "      <td>4</td>\n",
              "      <td>718</td>\n",
              "      <td>ReLu</td>\n",
              "      <td>Adam</td>\n",
              "      <td>0.8224</td>\n",
              "      <td>0.8636</td>\n",
              "    </tr>\n",
              "    <tr>\n",
              "      <th>9</th>\n",
              "      <td>4</td>\n",
              "      <td>1000</td>\n",
              "      <td>ReLu</td>\n",
              "      <td>Adam</td>\n",
              "      <td>0.8466</td>\n",
              "      <td>0.8959</td>\n",
              "    </tr>\n",
              "  </tbody>\n",
              "</table>\n",
              "</div>"
            ],
            "text/plain": [
              "  No. layers No. neurons act_func   opt   train    test\n",
              "0          4          50     ReLu  Adam  0.7357  0.8222\n",
              "1          4          70     ReLu  Adam  0.7651  0.8616\n",
              "2          4          98     ReLu  Adam  0.7546  0.8396\n",
              "3          4         137     ReLu  Adam  0.7141  0.7905\n",
              "4          4         191     ReLu  Adam  0.7167  0.8030\n",
              "5          4         266     ReLu  Adam  0.8296  0.8856\n",
              "6          4         370     ReLu  Adam  0.8071  0.8566\n",
              "7          4         516     ReLu  Adam  0.8306  0.8866\n",
              "8          4         718     ReLu  Adam  0.8224  0.8636\n",
              "9          4        1000     ReLu  Adam  0.8466  0.8959"
            ]
          },
          "metadata": {},
          "execution_count": 22
        }
      ],
      "source": [
        "for n_neuron in tqdm(n_neurons):\n",
        "    input_layer = Input(shape=(X_train.shape[1],))\n",
        "    dense_layer_1 = Dense(n_neuron, activation='relu')(input_layer)\n",
        "    dense_layer_2 = Dense(n_neuron, activation='relu')(dense_layer_1)\n",
        "    output = Dense(1)(dense_layer_2)\n",
        "\n",
        "    model = Model(inputs=input_layer, outputs=output)\n",
        "    model.compile(loss=\"mean_squared_error\", optimizer=\"adam\", metrics=[\"mean_squared_error\"])\n",
        "\n",
        "    history = model.fit(X_train, y_train, \n",
        "                        batch_size=1, \n",
        "                        epochs=10, \n",
        "                        verbose=0,\n",
        "                        #callbacks=[early_stop],\n",
        "                        validation_data=(X_test, y_test),\n",
        "                        #validation_split=0.2\n",
        "                       )\n",
        "\n",
        "    y_pred_train = model.predict(X_train)\n",
        "    #print(np.sqrt(sklearn_mean_squared_error(y_train, y_pred_train)))\n",
        "\n",
        "    y_pred_test = model.predict(X_test)\n",
        "    #print(np.sqrt(sklearn_mean_squared_error(y_test, y_pred_test)))\n",
        "\n",
        "    r2_train = round(r2_score(y_train, y_pred_train), 4)\n",
        "    r2_test = round(r2_score(y_test, y_pred_test), 4)\n",
        "\n",
        "    df.loc[i] = [4, n_neuron, 'ReLu', 'Adam', r2_train, r2_test]\n",
        "    i += 1\n",
        "df"
      ]
    },
    {
      "cell_type": "code",
      "execution_count": null,
      "metadata": {
        "ExecuteTime": {
          "end_time": "2021-05-10T22:40:21.094167Z",
          "start_time": "2021-05-10T22:40:20.956386Z"
        },
        "scrolled": true,
        "id": "qYxoZo0HzdRo",
        "colab": {
          "base_uri": "https://localhost:8080/",
          "height": 264
        },
        "outputId": "708a4fc5-4322-4efb-a0a7-ff37396e8f7d"
      },
      "outputs": [
        {
          "output_type": "display_data",
          "data": {
            "image/png": "[encoded data removed]",
            "text/plain": [
              "<Figure size 432x288 with 1 Axes>"
            ]
          },
          "metadata": {
            "needs_background": "light"
          }
        }
      ],
      "source": [
        "plt.plot(df['No. neurons'], df['train'], label='train')\n",
        "plt.plot(df['No. neurons'], df['test'], label='test')\n",
        "plt.legend();"
      ]
    },
    {
      "cell_type": "markdown",
      "metadata": {
        "id": "wPxb4bH-zdRo"
      },
      "source": [
        "## 5 слоев, 50-100 нейронов, ReLU, Adam"
      ]
    },
    {
      "cell_type": "code",
      "execution_count": null,
      "metadata": {
        "ExecuteTime": {
          "end_time": "2021-05-10T22:40:21.109330Z",
          "start_time": "2021-05-10T22:40:21.097121Z"
        },
        "id": "xomW6-VTzdRo"
      },
      "outputs": [],
      "source": [
        "# создадим пустой датафрейм\n",
        "df = pd.DataFrame(columns=['No. layers', 'No. neurons', 'act_func', 'opt', 'train', 'test'])\n",
        "i = 0"
      ]
    },
    {
      "cell_type": "code",
      "execution_count": null,
      "metadata": {
        "ExecuteTime": {
          "end_time": "2021-05-10T22:41:29.360766Z",
          "start_time": "2021-05-10T22:40:21.111163Z"
        },
        "id": "OJiASLDOzdRo",
        "colab": {
          "base_uri": "https://localhost:8080/",
          "height": 381
        },
        "outputId": "a90c09ee-f2d6-44b9-869c-64f966f3990c"
      },
      "outputs": [
        {
          "output_type": "stream",
          "name": "stderr",
          "text": [
            "100%|██████████| 10/10 [02:40<00:00, 16.04s/it]\n"
          ]
        },
        {
          "output_type": "execute_result",
          "data": {
            "text/html": [
              "<div>\n",
              "<style scoped>\n",
              "    .dataframe tbody tr th:only-of-type {\n",
              "        vertical-align: middle;\n",
              "    }\n",
              "\n",
              "    .dataframe tbody tr th {\n",
              "        vertical-align: top;\n",
              "    }\n",
              "\n",
              "    .dataframe thead th {\n",
              "        text-align: right;\n",
              "    }\n",
              "</style>\n",
              "<table border=\"1\" class=\"dataframe\">\n",
              "  <thead>\n",
              "    <tr style=\"text-align: right;\">\n",
              "      <th></th>\n",
              "      <th>No. layers</th>\n",
              "      <th>No. neurons</th>\n",
              "      <th>act_func</th>\n",
              "      <th>opt</th>\n",
              "      <th>train</th>\n",
              "      <th>test</th>\n",
              "    </tr>\n",
              "  </thead>\n",
              "  <tbody>\n",
              "    <tr>\n",
              "      <th>0</th>\n",
              "      <td>5</td>\n",
              "      <td>50</td>\n",
              "      <td>ReLu</td>\n",
              "      <td>Adam</td>\n",
              "      <td>0.7892</td>\n",
              "      <td>0.8652</td>\n",
              "    </tr>\n",
              "    <tr>\n",
              "      <th>1</th>\n",
              "      <td>5</td>\n",
              "      <td>70</td>\n",
              "      <td>ReLu</td>\n",
              "      <td>Adam</td>\n",
              "      <td>0.7743</td>\n",
              "      <td>0.8540</td>\n",
              "    </tr>\n",
              "    <tr>\n",
              "      <th>2</th>\n",
              "      <td>5</td>\n",
              "      <td>98</td>\n",
              "      <td>ReLu</td>\n",
              "      <td>Adam</td>\n",
              "      <td>0.7556</td>\n",
              "      <td>0.8310</td>\n",
              "    </tr>\n",
              "    <tr>\n",
              "      <th>3</th>\n",
              "      <td>5</td>\n",
              "      <td>137</td>\n",
              "      <td>ReLu</td>\n",
              "      <td>Adam</td>\n",
              "      <td>0.8264</td>\n",
              "      <td>0.8838</td>\n",
              "    </tr>\n",
              "    <tr>\n",
              "      <th>4</th>\n",
              "      <td>5</td>\n",
              "      <td>191</td>\n",
              "      <td>ReLu</td>\n",
              "      <td>Adam</td>\n",
              "      <td>0.8616</td>\n",
              "      <td>0.8955</td>\n",
              "    </tr>\n",
              "    <tr>\n",
              "      <th>5</th>\n",
              "      <td>5</td>\n",
              "      <td>266</td>\n",
              "      <td>ReLu</td>\n",
              "      <td>Adam</td>\n",
              "      <td>0.8683</td>\n",
              "      <td>0.9029</td>\n",
              "    </tr>\n",
              "    <tr>\n",
              "      <th>6</th>\n",
              "      <td>5</td>\n",
              "      <td>370</td>\n",
              "      <td>ReLu</td>\n",
              "      <td>Adam</td>\n",
              "      <td>0.8537</td>\n",
              "      <td>0.8814</td>\n",
              "    </tr>\n",
              "    <tr>\n",
              "      <th>7</th>\n",
              "      <td>5</td>\n",
              "      <td>516</td>\n",
              "      <td>ReLu</td>\n",
              "      <td>Adam</td>\n",
              "      <td>0.7863</td>\n",
              "      <td>0.8153</td>\n",
              "    </tr>\n",
              "    <tr>\n",
              "      <th>8</th>\n",
              "      <td>5</td>\n",
              "      <td>718</td>\n",
              "      <td>ReLu</td>\n",
              "      <td>Adam</td>\n",
              "      <td>0.8702</td>\n",
              "      <td>0.8911</td>\n",
              "    </tr>\n",
              "    <tr>\n",
              "      <th>9</th>\n",
              "      <td>5</td>\n",
              "      <td>1000</td>\n",
              "      <td>ReLu</td>\n",
              "      <td>Adam</td>\n",
              "      <td>0.8035</td>\n",
              "      <td>0.8461</td>\n",
              "    </tr>\n",
              "  </tbody>\n",
              "</table>\n",
              "</div>"
            ],
            "text/plain": [
              "  No. layers No. neurons act_func   opt   train    test\n",
              "0          5          50     ReLu  Adam  0.7892  0.8652\n",
              "1          5          70     ReLu  Adam  0.7743  0.8540\n",
              "2          5          98     ReLu  Adam  0.7556  0.8310\n",
              "3          5         137     ReLu  Adam  0.8264  0.8838\n",
              "4          5         191     ReLu  Adam  0.8616  0.8955\n",
              "5          5         266     ReLu  Adam  0.8683  0.9029\n",
              "6          5         370     ReLu  Adam  0.8537  0.8814\n",
              "7          5         516     ReLu  Adam  0.7863  0.8153\n",
              "8          5         718     ReLu  Adam  0.8702  0.8911\n",
              "9          5        1000     ReLu  Adam  0.8035  0.8461"
            ]
          },
          "metadata": {},
          "execution_count": 25
        }
      ],
      "source": [
        "for n_neuron in tqdm(n_neurons):\n",
        "    input_layer = Input(shape=(X_train.shape[1],))\n",
        "    dense_layer_1 = Dense(n_neuron, activation='relu')(input_layer)\n",
        "    dense_layer_2 = Dense(n_neuron, activation='relu')(dense_layer_1)\n",
        "    dense_layer_3 = Dense(n_neuron, activation='relu')(dense_layer_2)\n",
        "    output = Dense(1)(dense_layer_3)\n",
        "\n",
        "    model = Model(inputs=input_layer, outputs=output)\n",
        "    model.compile(loss=\"mean_squared_error\", optimizer=\"adam\", metrics=[\"mean_squared_error\"])\n",
        "\n",
        "    history = model.fit(X_train, y_train, \n",
        "                        batch_size=1, \n",
        "                        epochs=10, \n",
        "                        verbose=0,\n",
        "                        #callbacks=[early_stop],\n",
        "                        validation_data=(X_test, y_test),\n",
        "                        #validation_split=0.2\n",
        "                       )\n",
        "\n",
        "    y_pred_train = model.predict(X_train)\n",
        "    #print(np.sqrt(sklearn_mean_squared_error(y_train, y_pred_train)))\n",
        "\n",
        "    y_pred_test = model.predict(X_test)\n",
        "    #print(np.sqrt(sklearn_mean_squared_error(y_test, y_pred_test)))\n",
        "\n",
        "    r2_train = round(r2_score(y_train, y_pred_train), 4)\n",
        "    r2_test = round(r2_score(y_test, y_pred_test), 4)\n",
        "\n",
        "    df.loc[i] = [5, n_neuron, 'ReLu', 'Adam', r2_train, r2_test]\n",
        "    i += 1\n",
        "df"
      ]
    },
    {
      "cell_type": "code",
      "execution_count": null,
      "metadata": {
        "ExecuteTime": {
          "end_time": "2021-05-10T22:41:29.551857Z",
          "start_time": "2021-05-10T22:41:29.362766Z"
        },
        "id": "2tKm97KozdRo",
        "colab": {
          "base_uri": "https://localhost:8080/",
          "height": 264
        },
        "outputId": "696a743a-ee64-4417-bbe9-80059e97d8e0"
      },
      "outputs": [
        {
          "output_type": "display_data",
          "data": {
            "image/png": "[encoded data removed]",
            "text/plain": [
              "<Figure size 432x288 with 1 Axes>"
            ]
          },
          "metadata": {
            "needs_background": "light"
          }
        }
      ],
      "source": [
        "plt.plot(df['No. neurons'], df['train'], label='train')\n",
        "plt.plot(df['No. neurons'], df['test'], label='test')\n",
        "plt.legend();"
      ]
    },
    {
      "cell_type": "markdown",
      "metadata": {
        "id": "MbPHtl9GzdRp"
      },
      "source": [
        "## 6 слоев, 50-100 нейронов, ReLU, Adam"
      ]
    },
    {
      "cell_type": "code",
      "execution_count": null,
      "metadata": {
        "ExecuteTime": {
          "end_time": "2021-05-10T22:41:29.567860Z",
          "start_time": "2021-05-10T22:41:29.553857Z"
        },
        "id": "Y6JETxcCzdRp"
      },
      "outputs": [],
      "source": [
        "# создадим пустой датафрейм\n",
        "df = pd.DataFrame(columns=['No. layers', 'No. neurons', 'act_func', 'opt', 'train', 'test'])\n",
        "i = 0"
      ]
    },
    {
      "cell_type": "code",
      "execution_count": null,
      "metadata": {
        "ExecuteTime": {
          "end_time": "2021-05-10T22:43:03.872354Z",
          "start_time": "2021-05-10T22:41:29.569854Z"
        },
        "id": "TNplgBmYzdRp",
        "colab": {
          "base_uri": "https://localhost:8080/",
          "height": 363
        },
        "outputId": "94fbfb6e-51b6-40ad-c3f7-ac018d09df4b"
      },
      "outputs": [
        {
          "output_type": "stream",
          "name": "stderr",
          "text": [
            ""
          ]
        },
        {
          "output_type": "execute_result",
          "data": {
            "text/html": [
              "<div>\n",
              "<style scoped>\n",
              "    .dataframe tbody tr th:only-of-type {\n",
              "        vertical-align: middle;\n",
              "    }\n",
              "\n",
              "    .dataframe tbody tr th {\n",
              "        vertical-align: top;\n",
              "    }\n",
              "\n",
              "    .dataframe thead th {\n",
              "        text-align: right;\n",
              "    }\n",
              "</style>\n",
              "<table border=\"1\" class=\"dataframe\">\n",
              "  <thead>\n",
              "    <tr style=\"text-align: right;\">\n",
              "      <th></th>\n",
              "      <th>No. layers</th>\n",
              "      <th>No. neurons</th>\n",
              "      <th>act_func</th>\n",
              "      <th>opt</th>\n",
              "      <th>train</th>\n",
              "      <th>test</th>\n",
              "    </tr>\n",
              "  </thead>\n",
              "  <tbody>\n",
              "    <tr>\n",
              "      <th>0</th>\n",
              "      <td>6</td>\n",
              "      <td>50</td>\n",
              "      <td>ReLu</td>\n",
              "      <td>Adam</td>\n",
              "      <td>0.8060</td>\n",
              "      <td>0.8573</td>\n",
              "    </tr>\n",
              "    <tr>\n",
              "      <th>1</th>\n",
              "      <td>6</td>\n",
              "      <td>70</td>\n",
              "      <td>ReLu</td>\n",
              "      <td>Adam</td>\n",
              "      <td>0.7730</td>\n",
              "      <td>0.8515</td>\n",
              "    </tr>\n",
              "    <tr>\n",
              "      <th>2</th>\n",
              "      <td>6</td>\n",
              "      <td>98</td>\n",
              "      <td>ReLu</td>\n",
              "      <td>Adam</td>\n",
              "      <td>0.8359</td>\n",
              "      <td>0.8921</td>\n",
              "    </tr>\n",
              "    <tr>\n",
              "      <th>3</th>\n",
              "      <td>6</td>\n",
              "      <td>137</td>\n",
              "      <td>ReLu</td>\n",
              "      <td>Adam</td>\n",
              "      <td>0.8462</td>\n",
              "      <td>0.8815</td>\n",
              "    </tr>\n",
              "    <tr>\n",
              "      <th>4</th>\n",
              "      <td>6</td>\n",
              "      <td>191</td>\n",
              "      <td>ReLu</td>\n",
              "      <td>Adam</td>\n",
              "      <td>0.8518</td>\n",
              "      <td>0.8834</td>\n",
              "    </tr>\n",
              "    <tr>\n",
              "      <th>5</th>\n",
              "      <td>6</td>\n",
              "      <td>266</td>\n",
              "      <td>ReLu</td>\n",
              "      <td>Adam</td>\n",
              "      <td>0.8428</td>\n",
              "      <td>0.8908</td>\n",
              "    </tr>\n",
              "    <tr>\n",
              "      <th>6</th>\n",
              "      <td>6</td>\n",
              "      <td>370</td>\n",
              "      <td>ReLu</td>\n",
              "      <td>Adam</td>\n",
              "      <td>0.8460</td>\n",
              "      <td>0.8724</td>\n",
              "    </tr>\n",
              "    <tr>\n",
              "      <th>7</th>\n",
              "      <td>6</td>\n",
              "      <td>516</td>\n",
              "      <td>ReLu</td>\n",
              "      <td>Adam</td>\n",
              "      <td>0.8073</td>\n",
              "      <td>0.8386</td>\n",
              "    </tr>\n",
              "    <tr>\n",
              "      <th>8</th>\n",
              "      <td>6</td>\n",
              "      <td>718</td>\n",
              "      <td>ReLu</td>\n",
              "      <td>Adam</td>\n",
              "      <td>0.7671</td>\n",
              "      <td>0.8218</td>\n",
              "    </tr>\n",
              "    <tr>\n",
              "      <th>9</th>\n",
              "      <td>6</td>\n",
              "      <td>1000</td>\n",
              "      <td>ReLu</td>\n",
              "      <td>Adam</td>\n",
              "      <td>0.8359</td>\n",
              "      <td>0.8792</td>\n",
              "    </tr>\n",
              "  </tbody>\n",
              "</table>\n",
              "</div>"
            ],
            "text/plain": [
              "  No. layers No. neurons act_func   opt   train    test\n",
              "0          6          50     ReLu  Adam  0.8060  0.8573\n",
              "1          6          70     ReLu  Adam  0.7730  0.8515\n",
              "2          6          98     ReLu  Adam  0.8359  0.8921\n",
              "3          6         137     ReLu  Adam  0.8462  0.8815\n",
              "4          6         191     ReLu  Adam  0.8518  0.8834\n",
              "5          6         266     ReLu  Adam  0.8428  0.8908\n",
              "6          6         370     ReLu  Adam  0.8460  0.8724\n",
              "7          6         516     ReLu  Adam  0.8073  0.8386\n",
              "8          6         718     ReLu  Adam  0.7671  0.8218\n",
              "9          6        1000     ReLu  Adam  0.8359  0.8792"
            ]
          },
          "metadata": {},
          "execution_count": 28
        }
      ],
      "source": [
        "for n_neuron in tqdm(n_neurons, leave=False):\n",
        "    input_layer = Input(shape=(X_train.shape[1],))\n",
        "    dense_layer_1 = Dense(n_neuron, activation='relu')(input_layer)\n",
        "    dense_layer_2 = Dense(n_neuron, activation='relu')(dense_layer_1)\n",
        "    dense_layer_3 = Dense(n_neuron, activation='relu')(dense_layer_2)\n",
        "    dense_layer_4 = Dense(n_neuron, activation='relu')(dense_layer_3)\n",
        "    output = Dense(1)(dense_layer_4)\n",
        "\n",
        "    model = Model(inputs=input_layer, outputs=output)\n",
        "    model.compile(loss=\"mean_squared_error\", optimizer=\"adam\", metrics=[\"mean_squared_error\"])\n",
        "\n",
        "    history = model.fit(X_train, y_train, \n",
        "                        batch_size=1, \n",
        "                        epochs=10, \n",
        "                        verbose=0,\n",
        "                        #callbacks=[early_stop],\n",
        "                        validation_data=(X_test, y_test),\n",
        "                        #validation_split=0.2\n",
        "                       )\n",
        "\n",
        "    y_pred_train = model.predict(X_train)\n",
        "    #print(np.sqrt(sklearn_mean_squared_error(y_train, y_pred_train)))\n",
        "\n",
        "    y_pred_test = model.predict(X_test)\n",
        "    #print(np.sqrt(sklearn_mean_squared_error(y_test, y_pred_test)))\n",
        "\n",
        "    r2_train = round(r2_score(y_train, y_pred_train), 4)\n",
        "    r2_test = round(r2_score(y_test, y_pred_test), 4)\n",
        "\n",
        "    df.loc[i] = [6, n_neuron, 'ReLu', 'Adam', r2_train, r2_test]\n",
        "    i += 1\n",
        "df"
      ]
    },
    {
      "cell_type": "code",
      "execution_count": null,
      "metadata": {
        "ExecuteTime": {
          "end_time": "2021-05-10T22:43:04.045357Z",
          "start_time": "2021-05-10T22:43:03.874317Z"
        },
        "id": "ccP2COjqzdRp",
        "colab": {
          "base_uri": "https://localhost:8080/",
          "height": 264
        },
        "outputId": "7516ac5d-75f9-41dc-a638-dddb433d231d"
      },
      "outputs": [
        {
          "output_type": "display_data",
          "data": {
            "image/png": "[encoded data removed]",
            "text/plain": [
              "<Figure size 432x288 with 1 Axes>"
            ]
          },
          "metadata": {
            "needs_background": "light"
          }
        }
      ],
      "source": [
        "plt.plot(df['No. neurons'], df['train'], label='train')\n",
        "plt.plot(df['No. neurons'], df['test'], label='test')\n",
        "plt.legend();"
      ]
    },
    {
      "cell_type": "markdown",
      "metadata": {
        "id": "5B1CQoJIzdRp"
      },
      "source": [
        "## 7 слоев, 50-100 нейронов, ReLU, Adam"
      ]
    },
    {
      "cell_type": "code",
      "execution_count": null,
      "metadata": {
        "ExecuteTime": {
          "end_time": "2021-05-10T22:43:04.061315Z",
          "start_time": "2021-05-10T22:43:04.047321Z"
        },
        "id": "cdArKAp0zdRp"
      },
      "outputs": [],
      "source": [
        "# создадим пустой датафрейм\n",
        "df = pd.DataFrame(columns=['No. layers', 'No. neurons', 'act_func', 'opt', 'train', 'test'])\n",
        "i = 0"
      ]
    },
    {
      "cell_type": "code",
      "execution_count": null,
      "metadata": {
        "ExecuteTime": {
          "end_time": "2021-05-10T22:45:06.649800Z",
          "start_time": "2021-05-10T22:43:04.063317Z"
        },
        "id": "xRbA0LInzdRp",
        "colab": {
          "base_uri": "https://localhost:8080/",
          "height": 381
        },
        "outputId": "cbb36c38-d1fd-49cb-cf19-ccbac4e39a0f"
      },
      "outputs": [
        {
          "output_type": "stream",
          "name": "stderr",
          "text": [
            "100%|██████████| 10/10 [02:51<00:00, 17.12s/it]\n"
          ]
        },
        {
          "output_type": "execute_result",
          "data": {
            "text/html": [
              "<div>\n",
              "<style scoped>\n",
              "    .dataframe tbody tr th:only-of-type {\n",
              "        vertical-align: middle;\n",
              "    }\n",
              "\n",
              "    .dataframe tbody tr th {\n",
              "        vertical-align: top;\n",
              "    }\n",
              "\n",
              "    .dataframe thead th {\n",
              "        text-align: right;\n",
              "    }\n",
              "</style>\n",
              "<table border=\"1\" class=\"dataframe\">\n",
              "  <thead>\n",
              "    <tr style=\"text-align: right;\">\n",
              "      <th></th>\n",
              "      <th>No. layers</th>\n",
              "      <th>No. neurons</th>\n",
              "      <th>act_func</th>\n",
              "      <th>opt</th>\n",
              "      <th>train</th>\n",
              "      <th>test</th>\n",
              "    </tr>\n",
              "  </thead>\n",
              "  <tbody>\n",
              "    <tr>\n",
              "      <th>0</th>\n",
              "      <td>7</td>\n",
              "      <td>50</td>\n",
              "      <td>ReLu</td>\n",
              "      <td>Adam</td>\n",
              "      <td>0.8587</td>\n",
              "      <td>0.8995</td>\n",
              "    </tr>\n",
              "    <tr>\n",
              "      <th>1</th>\n",
              "      <td>7</td>\n",
              "      <td>70</td>\n",
              "      <td>ReLu</td>\n",
              "      <td>Adam</td>\n",
              "      <td>0.8462</td>\n",
              "      <td>0.9011</td>\n",
              "    </tr>\n",
              "    <tr>\n",
              "      <th>2</th>\n",
              "      <td>7</td>\n",
              "      <td>98</td>\n",
              "      <td>ReLu</td>\n",
              "      <td>Adam</td>\n",
              "      <td>0.8566</td>\n",
              "      <td>0.8977</td>\n",
              "    </tr>\n",
              "    <tr>\n",
              "      <th>3</th>\n",
              "      <td>7</td>\n",
              "      <td>137</td>\n",
              "      <td>ReLu</td>\n",
              "      <td>Adam</td>\n",
              "      <td>0.7150</td>\n",
              "      <td>0.7632</td>\n",
              "    </tr>\n",
              "    <tr>\n",
              "      <th>4</th>\n",
              "      <td>7</td>\n",
              "      <td>191</td>\n",
              "      <td>ReLu</td>\n",
              "      <td>Adam</td>\n",
              "      <td>0.8701</td>\n",
              "      <td>0.9137</td>\n",
              "    </tr>\n",
              "    <tr>\n",
              "      <th>5</th>\n",
              "      <td>7</td>\n",
              "      <td>266</td>\n",
              "      <td>ReLu</td>\n",
              "      <td>Adam</td>\n",
              "      <td>0.8368</td>\n",
              "      <td>0.8888</td>\n",
              "    </tr>\n",
              "    <tr>\n",
              "      <th>6</th>\n",
              "      <td>7</td>\n",
              "      <td>370</td>\n",
              "      <td>ReLu</td>\n",
              "      <td>Adam</td>\n",
              "      <td>0.8598</td>\n",
              "      <td>0.8956</td>\n",
              "    </tr>\n",
              "    <tr>\n",
              "      <th>7</th>\n",
              "      <td>7</td>\n",
              "      <td>516</td>\n",
              "      <td>ReLu</td>\n",
              "      <td>Adam</td>\n",
              "      <td>0.8518</td>\n",
              "      <td>0.8966</td>\n",
              "    </tr>\n",
              "    <tr>\n",
              "      <th>8</th>\n",
              "      <td>7</td>\n",
              "      <td>718</td>\n",
              "      <td>ReLu</td>\n",
              "      <td>Adam</td>\n",
              "      <td>0.8705</td>\n",
              "      <td>0.9084</td>\n",
              "    </tr>\n",
              "    <tr>\n",
              "      <th>9</th>\n",
              "      <td>7</td>\n",
              "      <td>1000</td>\n",
              "      <td>ReLu</td>\n",
              "      <td>Adam</td>\n",
              "      <td>0.6128</td>\n",
              "      <td>0.6538</td>\n",
              "    </tr>\n",
              "  </tbody>\n",
              "</table>\n",
              "</div>"
            ],
            "text/plain": [
              "  No. layers No. neurons act_func   opt   train    test\n",
              "0          7          50     ReLu  Adam  0.8587  0.8995\n",
              "1          7          70     ReLu  Adam  0.8462  0.9011\n",
              "2          7          98     ReLu  Adam  0.8566  0.8977\n",
              "3          7         137     ReLu  Adam  0.7150  0.7632\n",
              "4          7         191     ReLu  Adam  0.8701  0.9137\n",
              "5          7         266     ReLu  Adam  0.8368  0.8888\n",
              "6          7         370     ReLu  Adam  0.8598  0.8956\n",
              "7          7         516     ReLu  Adam  0.8518  0.8966\n",
              "8          7         718     ReLu  Adam  0.8705  0.9084\n",
              "9          7        1000     ReLu  Adam  0.6128  0.6538"
            ]
          },
          "metadata": {},
          "execution_count": 31
        }
      ],
      "source": [
        "for n_neuron in tqdm(n_neurons):\n",
        "    input_layer = Input(shape=(X_train.shape[1],))\n",
        "    dense_layer_1 = Dense(n_neuron, activation='relu')(input_layer)\n",
        "    dense_layer_2 = Dense(n_neuron, activation='relu')(dense_layer_1)\n",
        "    dense_layer_3 = Dense(n_neuron, activation='relu')(dense_layer_2)\n",
        "    dense_layer_4 = Dense(n_neuron, activation='relu')(dense_layer_3)\n",
        "    dense_layer_5 = Dense(n_neuron, activation='relu')(dense_layer_4)\n",
        "    output = Dense(1)(dense_layer_5)\n",
        "\n",
        "    model = Model(inputs=input_layer, outputs=output)\n",
        "    model.compile(loss=\"mean_squared_error\", optimizer=\"adam\", metrics=[\"mean_squared_error\"])\n",
        "\n",
        "    history = model.fit(X_train, y_train, \n",
        "                        batch_size=1, \n",
        "                        epochs=10, \n",
        "                        verbose=0,\n",
        "                        #callbacks=[early_stop],\n",
        "                        validation_data=(X_test, y_test),\n",
        "                        #validation_split=0.2\n",
        "                       )\n",
        "\n",
        "    y_pred_train = model.predict(X_train)\n",
        "    #print(np.sqrt(sklearn_mean_squared_error(y_train, y_pred_train)))\n",
        "\n",
        "    y_pred_test = model.predict(X_test)\n",
        "    #print(np.sqrt(sklearn_mean_squared_error(y_test, y_pred_test)))\n",
        "\n",
        "    r2_train = round(r2_score(y_train, y_pred_train), 4)\n",
        "    r2_test = round(r2_score(y_test, y_pred_test), 4)\n",
        "\n",
        "    df.loc[i] = [7, n_neuron, 'ReLu', 'Adam', r2_train, r2_test]\n",
        "    i += 1\n",
        "df"
      ]
    },
    {
      "cell_type": "code",
      "execution_count": null,
      "metadata": {
        "ExecuteTime": {
          "end_time": "2021-05-10T22:45:06.824396Z",
          "start_time": "2021-05-10T22:45:06.650773Z"
        },
        "id": "Qu5G1UMTzdRq",
        "colab": {
          "base_uri": "https://localhost:8080/",
          "height": 264
        },
        "outputId": "26e8f537-fd65-47f2-d164-2a2320f0aa1a"
      },
      "outputs": [
        {
          "output_type": "display_data",
          "data": {
            "image/png": "[encoded data removed]",
            "text/plain": [
              "<Figure size 432x288 with 1 Axes>"
            ]
          },
          "metadata": {
            "needs_background": "light"
          }
        }
      ],
      "source": [
        "plt.plot(df['No. neurons'], df['train'], label='train')\n",
        "plt.plot(df['No. neurons'], df['test'], label='test')\n",
        "plt.legend();"
      ]
    },
    {
      "cell_type": "markdown",
      "metadata": {
        "id": "NvLmnAy3zdRq"
      },
      "source": [
        "## 9 слоев, 50-100 нейронов, ReLU, Adam"
      ]
    },
    {
      "cell_type": "code",
      "execution_count": null,
      "metadata": {
        "ExecuteTime": {
          "end_time": "2021-05-10T22:45:06.840405Z",
          "start_time": "2021-05-10T22:45:06.826354Z"
        },
        "id": "ZTUdd6UQzdRq"
      },
      "outputs": [],
      "source": [
        "# создадим пустой датафрейм\n",
        "df = pd.DataFrame(columns=['No. layers', 'No. neurons', 'act_func', 'opt', 'train', 'test'])\n",
        "i = 0"
      ]
    },
    {
      "cell_type": "code",
      "execution_count": null,
      "metadata": {
        "ExecuteTime": {
          "end_time": "2021-05-10T22:47:42.805309Z",
          "start_time": "2021-05-10T22:45:06.841355Z"
        },
        "id": "VePqR_69zdRq",
        "colab": {
          "base_uri": "https://localhost:8080/",
          "height": 381
        },
        "outputId": "66c1e957-6596-406d-b22c-f8b955f5b755"
      },
      "outputs": [
        {
          "output_type": "stream",
          "name": "stderr",
          "text": [
            "100%|██████████| 10/10 [03:06<00:00, 18.61s/it]\n"
          ]
        },
        {
          "output_type": "execute_result",
          "data": {
            "text/html": [
              "<div>\n",
              "<style scoped>\n",
              "    .dataframe tbody tr th:only-of-type {\n",
              "        vertical-align: middle;\n",
              "    }\n",
              "\n",
              "    .dataframe tbody tr th {\n",
              "        vertical-align: top;\n",
              "    }\n",
              "\n",
              "    .dataframe thead th {\n",
              "        text-align: right;\n",
              "    }\n",
              "</style>\n",
              "<table border=\"1\" class=\"dataframe\">\n",
              "  <thead>\n",
              "    <tr style=\"text-align: right;\">\n",
              "      <th></th>\n",
              "      <th>No. layers</th>\n",
              "      <th>No. neurons</th>\n",
              "      <th>act_func</th>\n",
              "      <th>opt</th>\n",
              "      <th>train</th>\n",
              "      <th>test</th>\n",
              "    </tr>\n",
              "  </thead>\n",
              "  <tbody>\n",
              "    <tr>\n",
              "      <th>0</th>\n",
              "      <td>9</td>\n",
              "      <td>50</td>\n",
              "      <td>ReLu</td>\n",
              "      <td>Adam</td>\n",
              "      <td>0.8285</td>\n",
              "      <td>0.8934</td>\n",
              "    </tr>\n",
              "    <tr>\n",
              "      <th>1</th>\n",
              "      <td>9</td>\n",
              "      <td>70</td>\n",
              "      <td>ReLu</td>\n",
              "      <td>Adam</td>\n",
              "      <td>0.8488</td>\n",
              "      <td>0.8901</td>\n",
              "    </tr>\n",
              "    <tr>\n",
              "      <th>2</th>\n",
              "      <td>9</td>\n",
              "      <td>98</td>\n",
              "      <td>ReLu</td>\n",
              "      <td>Adam</td>\n",
              "      <td>0.7662</td>\n",
              "      <td>0.8083</td>\n",
              "    </tr>\n",
              "    <tr>\n",
              "      <th>3</th>\n",
              "      <td>9</td>\n",
              "      <td>137</td>\n",
              "      <td>ReLu</td>\n",
              "      <td>Adam</td>\n",
              "      <td>0.7966</td>\n",
              "      <td>0.8523</td>\n",
              "    </tr>\n",
              "    <tr>\n",
              "      <th>4</th>\n",
              "      <td>9</td>\n",
              "      <td>191</td>\n",
              "      <td>ReLu</td>\n",
              "      <td>Adam</td>\n",
              "      <td>0.7781</td>\n",
              "      <td>0.8344</td>\n",
              "    </tr>\n",
              "    <tr>\n",
              "      <th>5</th>\n",
              "      <td>9</td>\n",
              "      <td>266</td>\n",
              "      <td>ReLu</td>\n",
              "      <td>Adam</td>\n",
              "      <td>0.5287</td>\n",
              "      <td>0.5335</td>\n",
              "    </tr>\n",
              "    <tr>\n",
              "      <th>6</th>\n",
              "      <td>9</td>\n",
              "      <td>370</td>\n",
              "      <td>ReLu</td>\n",
              "      <td>Adam</td>\n",
              "      <td>0.7293</td>\n",
              "      <td>0.7447</td>\n",
              "    </tr>\n",
              "    <tr>\n",
              "      <th>7</th>\n",
              "      <td>9</td>\n",
              "      <td>516</td>\n",
              "      <td>ReLu</td>\n",
              "      <td>Adam</td>\n",
              "      <td>0.8399</td>\n",
              "      <td>0.8821</td>\n",
              "    </tr>\n",
              "    <tr>\n",
              "      <th>8</th>\n",
              "      <td>9</td>\n",
              "      <td>718</td>\n",
              "      <td>ReLu</td>\n",
              "      <td>Adam</td>\n",
              "      <td>0.8267</td>\n",
              "      <td>0.8903</td>\n",
              "    </tr>\n",
              "    <tr>\n",
              "      <th>9</th>\n",
              "      <td>9</td>\n",
              "      <td>1000</td>\n",
              "      <td>ReLu</td>\n",
              "      <td>Adam</td>\n",
              "      <td>0.7198</td>\n",
              "      <td>0.7633</td>\n",
              "    </tr>\n",
              "  </tbody>\n",
              "</table>\n",
              "</div>"
            ],
            "text/plain": [
              "  No. layers No. neurons act_func   opt   train    test\n",
              "0          9          50     ReLu  Adam  0.8285  0.8934\n",
              "1          9          70     ReLu  Adam  0.8488  0.8901\n",
              "2          9          98     ReLu  Adam  0.7662  0.8083\n",
              "3          9         137     ReLu  Adam  0.7966  0.8523\n",
              "4          9         191     ReLu  Adam  0.7781  0.8344\n",
              "5          9         266     ReLu  Adam  0.5287  0.5335\n",
              "6          9         370     ReLu  Adam  0.7293  0.7447\n",
              "7          9         516     ReLu  Adam  0.8399  0.8821\n",
              "8          9         718     ReLu  Adam  0.8267  0.8903\n",
              "9          9        1000     ReLu  Adam  0.7198  0.7633"
            ]
          },
          "metadata": {},
          "execution_count": 34
        }
      ],
      "source": [
        "for n_neuron in tqdm(n_neurons):\n",
        "    input_layer = Input(shape=(X_train.shape[1],))\n",
        "    dense_layer_1 = Dense(n_neuron, activation='relu')(input_layer)\n",
        "    dense_layer_2 = Dense(n_neuron, activation='relu')(dense_layer_1)\n",
        "    dense_layer_3 = Dense(n_neuron, activation='relu')(dense_layer_2)\n",
        "    dense_layer_4 = Dense(n_neuron, activation='relu')(dense_layer_3)\n",
        "    dense_layer_5 = Dense(n_neuron, activation='relu')(dense_layer_4)\n",
        "    dense_layer_6 = Dense(n_neuron, activation='relu')(dense_layer_5)\n",
        "    dense_layer_7 = Dense(n_neuron, activation='relu')(dense_layer_6)\n",
        "    output = Dense(1)(dense_layer_7)\n",
        "\n",
        "    model = Model(inputs=input_layer, outputs=output)\n",
        "    model.compile(loss=\"mean_squared_error\", optimizer=\"adam\", metrics=[\"mean_squared_error\"])\n",
        "\n",
        "    history = model.fit(X_train, y_train, \n",
        "                        batch_size=1, \n",
        "                        epochs=10, \n",
        "                        verbose=0,\n",
        "                        #callbacks=[early_stop],\n",
        "                        validation_data=(X_test, y_test),\n",
        "                        #validation_split=0.2\n",
        "                       )\n",
        "\n",
        "    y_pred_train = model.predict(X_train)\n",
        "    #print(np.sqrt(sklearn_mean_squared_error(y_train, y_pred_train)))\n",
        "\n",
        "    y_pred_test = model.predict(X_test)\n",
        "    #print(np.sqrt(sklearn_mean_squared_error(y_test, y_pred_test)))\n",
        "\n",
        "    r2_train = round(r2_score(y_train, y_pred_train), 4)\n",
        "    r2_test = round(r2_score(y_test, y_pred_test), 4)\n",
        "\n",
        "    df.loc[i] = [9, n_neuron, 'ReLu', 'Adam', r2_train, r2_test]\n",
        "    i += 1\n",
        "df"
      ]
    },
    {
      "cell_type": "code",
      "execution_count": null,
      "metadata": {
        "ExecuteTime": {
          "end_time": "2021-05-10T22:47:42.977909Z",
          "start_time": "2021-05-10T22:47:42.806307Z"
        },
        "id": "eiVhayJJzdRq",
        "colab": {
          "base_uri": "https://localhost:8080/",
          "height": 264
        },
        "outputId": "0d6d00c6-4362-4a93-b89b-2bd897f215ab"
      },
      "outputs": [
        {
          "output_type": "display_data",
          "data": {
            "image/png": "[encoded data removed]",
            "text/plain": [
              "<Figure size 432x288 with 1 Axes>"
            ]
          },
          "metadata": {
            "needs_background": "light"
          }
        }
      ],
      "source": [
        "plt.plot(df['No. neurons'], df['train'], label='train')\n",
        "plt.plot(df['No. neurons'], df['test'], label='test')\n",
        "plt.legend();"
      ]
    },
    {
      "cell_type": "markdown",
      "metadata": {
        "id": "MpDc8NoKzdRq"
      },
      "source": [
        "## Вывод:\n",
        "\n",
        "Оптимальное количество слоев- 4. При 3-ех модель недообучается. Начиная с 5-ти метрики начинают снижаться и обучение становится нестабильным.\n",
        "\n",
        "Возмем модель с 4-мя слоями и батчем = 1 и наилучшим количеством нейронов для этой комбинации равным 400."
      ]
    },
    {
      "cell_type": "markdown",
      "metadata": {
        "id": "hWG8LcbQzdRr"
      },
      "source": [
        "# Финальная модель\n",
        "\n",
        "4 слоя, батч = 1"
      ]
    },
    {
      "cell_type": "code",
      "execution_count": null,
      "metadata": {
        "ExecuteTime": {
          "end_time": "2021-05-10T23:09:03.853450Z",
          "start_time": "2021-05-10T23:09:03.844901Z"
        },
        "id": "6ue2FtFTzdRr"
      },
      "outputs": [],
      "source": [
        "# создадим пустой датафрейм\n",
        "df = pd.DataFrame(columns=['No. layers', 'epoches', 'act_func', 'opt', 'train', 'test'])\n",
        "i = 0"
      ]
    },
    {
      "cell_type": "code",
      "execution_count": null,
      "metadata": {
        "ExecuteTime": {
          "end_time": "2021-05-10T23:13:59.224537Z",
          "start_time": "2021-05-10T23:09:35.446931Z"
        },
        "id": "66SqOC2gzdRr",
        "colab": {
          "base_uri": "https://localhost:8080/",
          "height": 224
        },
        "outputId": "ec03cefa-f12a-4016-f18b-fc65227980cd"
      },
      "outputs": [
        {
          "output_type": "stream",
          "name": "stderr",
          "text": [
            "100%|██████████| 5/5 [16:32<00:00, 198.46s/it]\n"
          ]
        },
        {
          "output_type": "execute_result",
          "data": {
            "text/html": [
              "<div>\n",
              "<style scoped>\n",
              "    .dataframe tbody tr th:only-of-type {\n",
              "        vertical-align: middle;\n",
              "    }\n",
              "\n",
              "    .dataframe tbody tr th {\n",
              "        vertical-align: top;\n",
              "    }\n",
              "\n",
              "    .dataframe thead th {\n",
              "        text-align: right;\n",
              "    }\n",
              "</style>\n",
              "<table border=\"1\" class=\"dataframe\">\n",
              "  <thead>\n",
              "    <tr style=\"text-align: right;\">\n",
              "      <th></th>\n",
              "      <th>No. layers</th>\n",
              "      <th>epoches</th>\n",
              "      <th>act_func</th>\n",
              "      <th>opt</th>\n",
              "      <th>train</th>\n",
              "      <th>test</th>\n",
              "    </tr>\n",
              "  </thead>\n",
              "  <tbody>\n",
              "    <tr>\n",
              "      <th>0</th>\n",
              "      <td>4</td>\n",
              "      <td>10</td>\n",
              "      <td>ReLu</td>\n",
              "      <td>Adam</td>\n",
              "      <td>0.7668</td>\n",
              "      <td>0.8352</td>\n",
              "    </tr>\n",
              "    <tr>\n",
              "      <th>1</th>\n",
              "      <td>4</td>\n",
              "      <td>50</td>\n",
              "      <td>ReLu</td>\n",
              "      <td>Adam</td>\n",
              "      <td>0.9338</td>\n",
              "      <td>0.9068</td>\n",
              "    </tr>\n",
              "    <tr>\n",
              "      <th>2</th>\n",
              "      <td>4</td>\n",
              "      <td>100</td>\n",
              "      <td>ReLu</td>\n",
              "      <td>Adam</td>\n",
              "      <td>0.9474</td>\n",
              "      <td>0.9103</td>\n",
              "    </tr>\n",
              "    <tr>\n",
              "      <th>3</th>\n",
              "      <td>4</td>\n",
              "      <td>200</td>\n",
              "      <td>ReLu</td>\n",
              "      <td>Adam</td>\n",
              "      <td>0.9503</td>\n",
              "      <td>0.9134</td>\n",
              "    </tr>\n",
              "    <tr>\n",
              "      <th>4</th>\n",
              "      <td>4</td>\n",
              "      <td>500</td>\n",
              "      <td>ReLu</td>\n",
              "      <td>Adam</td>\n",
              "      <td>0.9821</td>\n",
              "      <td>0.9101</td>\n",
              "    </tr>\n",
              "  </tbody>\n",
              "</table>\n",
              "</div>"
            ],
            "text/plain": [
              "  No. layers epoches act_func   opt   train    test\n",
              "0          4      10     ReLu  Adam  0.7668  0.8352\n",
              "1          4      50     ReLu  Adam  0.9338  0.9068\n",
              "2          4     100     ReLu  Adam  0.9474  0.9103\n",
              "3          4     200     ReLu  Adam  0.9503  0.9134\n",
              "4          4     500     ReLu  Adam  0.9821  0.9101"
            ]
          },
          "metadata": {},
          "execution_count": 37
        }
      ],
      "source": [
        "for epoch in tqdm([10, 50, 100, 200, 500]):\n",
        "    input_layer = Input(shape=(X_train.shape[1],))\n",
        "    dense_layer_1 = Dense(400, activation='relu')(input_layer)\n",
        "    dense_layer_2 = Dense(400, activation='relu')(dense_layer_1)\n",
        "    output = Dense(1)(dense_layer_2)\n",
        "\n",
        "    model = Model(inputs=input_layer, outputs=output)\n",
        "    model.compile(loss=\"mean_squared_error\", optimizer=\"adam\", metrics=[\"mean_squared_error\"])\n",
        "\n",
        "    history = model.fit(X_train, y_train, \n",
        "                        batch_size=1, \n",
        "                        epochs=epoch, \n",
        "                        verbose=0,\n",
        "                        #callbacks=[early_stop],\n",
        "                        validation_data=(X_test, y_test),\n",
        "                        #validation_split=0.2\n",
        "                       )\n",
        "\n",
        "    y_pred_train = model.predict(X_train)\n",
        "    #print(np.sqrt(sklearn_mean_squared_error(y_train, y_pred_train)))\n",
        "\n",
        "    y_pred_test = model.predict(X_test)\n",
        "    #print(np.sqrt(sklearn_mean_squared_error(y_test, y_pred_test)))\n",
        "\n",
        "    r2_train = round(r2_score(y_train, y_pred_train), 4)\n",
        "    r2_test = round(r2_score(y_test, y_pred_test), 4)\n",
        "\n",
        "    df.loc[i] = [4, epoch, 'ReLu', 'Adam', r2_train, r2_test]\n",
        "    i += 1\n",
        "df"
      ]
    },
    {
      "cell_type": "code",
      "execution_count": null,
      "metadata": {
        "ExecuteTime": {
          "end_time": "2021-05-10T23:13:59.667707Z",
          "start_time": "2021-05-10T23:13:59.510670Z"
        },
        "id": "KJ89XYcAzdRr",
        "colab": {
          "base_uri": "https://localhost:8080/",
          "height": 264
        },
        "outputId": "f8432a50-e5bb-4a30-e620-9f40fe7000ae"
      },
      "outputs": [
        {
          "output_type": "display_data",
          "data": {
            "image/png": "[encoded data removed]",
            "text/plain": [
              "<Figure size 432x288 with 1 Axes>"
            ]
          },
          "metadata": {
            "needs_background": "light"
          }
        }
      ],
      "source": [
        "plt.plot(df['epoches'], df['train'], label='train')\n",
        "plt.plot(df['epoches'], df['test'], label='test')\n",
        "plt.legend();"
      ]
    },
    {
      "cell_type": "markdown",
      "metadata": {
        "id": "uFIQ0LcjzdRr"
      },
      "source": [
        "## Вывод:\n",
        "\n",
        "Количество эпох не должно быть большим. \n",
        "Рост эпох увеличивает переобученность модели.\n",
        "\n",
        "Получить наилучшую модель позволило нахождение оптимальных параметров для:\n",
        "- батча;\n",
        "- числа эпох;\n",
        "- числа слоев.\n",
        "\n",
        "**В итоге лучшая модель с наибольшими скорами и без переобучения для этого датасета: 4 слоя, 1 батч и 50 эпох**.\n",
        "\n",
        "Подбор наилучшего оптимизатора не производился, так как почти всегда лучшие результаты показывает Adam."
      ]
    },
    {
      "cell_type": "code",
      "source": [
        ""
      ],
      "metadata": {
        "id": "KqrgaIrfJ5sn"
      },
      "execution_count": null,
      "outputs": []
    }
  ],
  "metadata": {
    "kernelspec": {
      "display_name": "Python 3",
      "language": "python",
      "name": "python3"
    },
    "language_info": {
      "codemirror_mode": {
        "name": "ipython",
        "version": 3
      },
      "file_extension": ".py",
      "mimetype": "text/x-python",
      "name": "python",
      "nbconvert_exporter": "python",
      "pygments_lexer": "ipython3",
      "version": "3.8.5"
    },
    "toc": {
      "base_numbering": 1,
      "nav_menu": {},
      "number_sections": false,
      "sideBar": true,
      "skip_h1_title": false,
      "title_cell": "Table of Contents",
      "title_sidebar": "Contents",
      "toc_cell": false,
      "toc_position": {
        "height": "calc(100% - 180px)",
        "left": "10px",
        "top": "150px",
        "width": "307.2px"
      },
      "toc_section_display": true,
      "toc_window_display": true
    },
    "varInspector": {
      "cols": {
        "lenName": 16,
        "lenType": 16,
        "lenVar": 40
      },
      "kernels_config": {
        "python": {
          "delete_cmd_postfix": "",
          "delete_cmd_prefix": "del ",
          "library": "var_list.py",
          "varRefreshCmd": "print(var_dic_list())"
        },
        "r": {
          "delete_cmd_postfix": ") ",
          "delete_cmd_prefix": "rm(",
          "library": "var_list.r",
          "varRefreshCmd": "cat(var_dic_list()) "
        }
      },
      "types_to_exclude": [
        "module",
        "function",
        "builtin_function_or_method",
        "instance",
        "_Feature"
      ],
      "window_display": false
    },
    "colab": {
      "name": "Homework_00003 (IiNN).ipynb\"",
      "provenance": [],
      "collapsed_sections": [
        "DIbqN4TlzdRm",
        "MpDc8NoKzdRq"
      ]
    },
    "accelerator": "GPU"
  },
  "nbformat": 4,
  "nbformat_minor": 0
}