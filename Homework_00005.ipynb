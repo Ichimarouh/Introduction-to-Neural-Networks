{
 "cells": [
  {
   "cell_type": "markdown",
   "metadata": {
    "id": "xdqJzy5hfXnw"
   },
   "source": [
    "# Введение в искусственные нейронные сети\n",
    "# Урок 5. Рекуррентные нейронные сети|"
   ]
  },
  {
   "cell_type": "markdown",
   "metadata": {
    "id": "aA5Khc0yqvF_"
   },
   "source": [
    "1. Попробуйте изменить параметры нейронной сети, работающей с датасетом imdb, либо нейронной сети, работающей airline-passengers (она прилагается вместе  с датасетом к уроку в виде отдельного скрипта) так, чтобы улучшить её точность. Приложите анализ\n",
    "\n",
    "2. Попробуйте изменить параметры нейронной сети, генерирующей текст таким образом, чтобы добиться генерации как можно более осмысленного текста. Пришлите лучший текст из получившихся и опишите предпринятые для его получения действия. Можно использовать текст другого произведения\n"
   ]
  },
  {
   "cell_type": "code",
   "execution_count": 3,
   "metadata": {
    "id": "8cZb1DNjfgaP"
   },
   "outputs": [],
   "source": [
    "from __future__ import print_function\n",
    "\n",
    "import numpy as np\n",
    "\n",
    "from keras.layers import Dense, Activation\n",
    "from keras.layers.recurrent import SimpleRNN, LSTM, GRU\n",
    "from keras.preprocessing import sequence\n",
    "from keras.models import Sequential\n",
    "from keras.layers import Dense, Embedding\n",
    "from keras.layers import LSTM\n",
    "from keras.datasets import imdb"
   ]
  },
  {
   "cell_type": "code",
   "execution_count": 4,
   "metadata": {
    "id": "pV0l6cx_gEAX"
   },
   "outputs": [],
   "source": [
    "def compare(max_features, maxlen, batch_size):\n",
    "  (x_train, y_train), (x_test, y_test) = imdb.load_data(num_words=max_features)\n",
    "\n",
    "  x_train = sequence.pad_sequences(x_train, maxlen=maxlen)\n",
    "  x_test = sequence.pad_sequences(x_test, maxlen=maxlen)\n",
    "\n",
    "  model = Sequential()\n",
    "  model.add(Embedding(max_features, 128))\n",
    "  model.add(LSTM(128, dropout=0.2, recurrent_dropout=0.2))\n",
    "  model.add(Dense(1, activation='sigmoid'))\n",
    "\n",
    "  model.compile(loss='binary_crossentropy',\n",
    "              optimizer='adamax',\n",
    "              metrics=['accuracy'])\n",
    "  \n",
    "  model.fit(x_train, y_train,\n",
    "          batch_size=batch_size,\n",
    "          epochs=1, \n",
    "          validation_data=(x_test, y_test))\n",
    "  \n",
    "  score, acc = model.evaluate(x_test, y_test,\n",
    "                            batch_size=batch_size)\n",
    "  \n",
    "  print('Результат при тестировании:', score)\n",
    "  print('Тестовая точность:', acc)"
   ]
  },
  {
   "cell_type": "markdown",
   "metadata": {
    "id": "nbzI-GKRomeo"
   },
   "source": [
    "**Зафиксируем параметры maxlen = 125 и batch_size = 200, изменяя параметр max_features = [15000, 17500, 20000, 21000].**"
   ]
  },
  {
   "cell_type": "code",
   "execution_count": 5,
   "metadata": {
    "colab": {
     "base_uri": "https://localhost:8080/"
    },
    "id": "G6STt3VtkpoP",
    "outputId": "5f316d62-54dc-45d6-d13b-7d8fdcaad904"
   },
   "outputs": [
    {
     "name": "stdout",
     "output_type": "stream",
     "text": [
      "\n",
      "При max_features = 15000:\n",
      "\n",
      "Downloading data from https://storage.googleapis.com/tensorflow/tf-keras-datasets/imdb.npz\n",
      "17465344/17464789 [==============================] - 0s 0us/step\n",
      "17473536/17464789 [==============================] - 0s 0us/step\n",
      "WARNING:tensorflow:Layer lstm will not use cuDNN kernels since it doesn't meet the criteria. It will use a generic GPU kernel as fallback when running on GPU.\n",
      "125/125 [==============================] - 52s 389ms/step - loss: 0.5206 - accuracy: 0.7408 - val_loss: 0.3613 - val_accuracy: 0.8391\n",
      "125/125 [==============================] - 7s 56ms/step - loss: 0.3613 - accuracy: 0.8391\n",
      "Результат при тестировании: 0.36133596301078796\n",
      "Тестовая точность: 0.8391199707984924\n",
      "\n",
      "При max_features = 17500:\n",
      "\n",
      "WARNING:tensorflow:Layer lstm_1 will not use cuDNN kernels since it doesn't meet the criteria. It will use a generic GPU kernel as fallback when running on GPU.\n",
      "125/125 [==============================] - 46s 348ms/step - loss: 0.5315 - accuracy: 0.7262 - val_loss: 0.3799 - val_accuracy: 0.8362\n",
      "125/125 [==============================] - 7s 56ms/step - loss: 0.3799 - accuracy: 0.8362\n",
      "Результат при тестировании: 0.3799389600753784\n",
      "Тестовая точность: 0.8362399935722351\n",
      "\n",
      "При max_features = 20000:\n",
      "\n",
      "WARNING:tensorflow:Layer lstm_2 will not use cuDNN kernels since it doesn't meet the criteria. It will use a generic GPU kernel as fallback when running on GPU.\n",
      "125/125 [==============================] - 51s 387ms/step - loss: 0.5280 - accuracy: 0.7202 - val_loss: 0.3748 - val_accuracy: 0.8370\n",
      "125/125 [==============================] - 7s 57ms/step - loss: 0.3748 - accuracy: 0.8370\n",
      "Результат при тестировании: 0.3748139441013336\n",
      "Тестовая точность: 0.8370400071144104\n",
      "\n",
      "При max_features = 21000:\n",
      "\n",
      "WARNING:tensorflow:Layer lstm_3 will not use cuDNN kernels since it doesn't meet the criteria. It will use a generic GPU kernel as fallback when running on GPU.\n",
      "125/125 [==============================] - 45s 345ms/step - loss: 0.5352 - accuracy: 0.7284 - val_loss: 0.3838 - val_accuracy: 0.8384\n",
      "125/125 [==============================] - 7s 55ms/step - loss: 0.3838 - accuracy: 0.8384\n",
      "Результат при тестировании: 0.3838413953781128\n",
      "Тестовая точность: 0.8384400010108948\n"
     ]
    }
   ],
   "source": [
    "for m in [15000, 17500, 20000, 21000]:\n",
    "  print(f'\\nПри max_features = {m}:\\n')\n",
    "  compare(m, 125, 200)"
   ]
  },
  {
   "cell_type": "markdown",
   "metadata": {
    "id": "uYcywHbSzQiL"
   },
   "source": [
    "**Зафиксируем параметры max_features = 20000 и batch_size = 200, изменяя параметр maxlen = [100, 110, 125, 150].**"
   ]
  },
  {
   "cell_type": "code",
   "execution_count": 6,
   "metadata": {
    "colab": {
     "base_uri": "https://localhost:8080/"
    },
    "id": "E3emqY0Okyb5",
    "outputId": "0b5d434a-72bb-485a-ddc2-47b642f76e5c"
   },
   "outputs": [
    {
     "name": "stdout",
     "output_type": "stream",
     "text": [
      "\n",
      "При maxlen = 100:\n",
      "\n",
      "WARNING:tensorflow:Layer lstm_4 will not use cuDNN kernels since it doesn't meet the criteria. It will use a generic GPU kernel as fallback when running on GPU.\n",
      "125/125 [==============================] - 38s 284ms/step - loss: 0.5515 - accuracy: 0.7078 - val_loss: 0.4047 - val_accuracy: 0.8145\n",
      "125/125 [==============================] - 5s 44ms/step - loss: 0.4047 - accuracy: 0.8145\n",
      "Результат при тестировании: 0.40465807914733887\n",
      "Тестовая точность: 0.814520001411438\n",
      "\n",
      "При maxlen = 110:\n",
      "\n",
      "WARNING:tensorflow:Layer lstm_5 will not use cuDNN kernels since it doesn't meet the criteria. It will use a generic GPU kernel as fallback when running on GPU.\n",
      "125/125 [==============================] - 45s 342ms/step - loss: 0.5433 - accuracy: 0.7106 - val_loss: 0.3821 - val_accuracy: 0.8279\n",
      "125/125 [==============================] - 6s 47ms/step - loss: 0.3821 - accuracy: 0.8279\n",
      "Результат при тестировании: 0.3820858597755432\n",
      "Тестовая точность: 0.8279200196266174\n",
      "\n",
      "При maxlen = 125:\n",
      "\n",
      "WARNING:tensorflow:Layer lstm_6 will not use cuDNN kernels since it doesn't meet the criteria. It will use a generic GPU kernel as fallback when running on GPU.\n",
      "125/125 [==============================] - 45s 346ms/step - loss: 0.5465 - accuracy: 0.7157 - val_loss: 0.4106 - val_accuracy: 0.8097\n",
      "125/125 [==============================] - 7s 55ms/step - loss: 0.4106 - accuracy: 0.8097\n",
      "Результат при тестировании: 0.4106273949146271\n",
      "Тестовая точность: 0.809719979763031\n",
      "\n",
      "При maxlen = 150:\n",
      "\n",
      "WARNING:tensorflow:Layer lstm_7 will not use cuDNN kernels since it doesn't meet the criteria. It will use a generic GPU kernel as fallback when running on GPU.\n",
      "125/125 [==============================] - 57s 439ms/step - loss: 0.5139 - accuracy: 0.7429 - val_loss: 0.3773 - val_accuracy: 0.8406\n",
      "125/125 [==============================] - 8s 65ms/step - loss: 0.3773 - accuracy: 0.8406\n",
      "Результат при тестировании: 0.3773038685321808\n",
      "Тестовая точность: 0.8406000137329102\n"
     ]
    }
   ],
   "source": [
    "for n in  [100, 110, 125, 150]:\n",
    "  print(f'\\nПри maxlen = {n}:\\n')\n",
    "  compare(20000, n, 200)"
   ]
  },
  {
   "cell_type": "markdown",
   "metadata": {
    "id": "rH-HABoL0MYH"
   },
   "source": [
    "**Зафиксируем параметры max_features = 20000 и maxlen = 125, изменяя параметр batch_size = [150, 175, 200, 250].**"
   ]
  },
  {
   "cell_type": "code",
   "execution_count": 7,
   "metadata": {
    "colab": {
     "base_uri": "https://localhost:8080/"
    },
    "id": "OBtElPIq0cGl",
    "outputId": "a860dd45-f0d0-4b3a-c30b-910e2c47584c"
   },
   "outputs": [
    {
     "name": "stdout",
     "output_type": "stream",
     "text": [
      "\n",
      "При batch_size = 150: \n",
      "\n",
      "WARNING:tensorflow:Layer lstm_8 will not use cuDNN kernels since it doesn't meet the criteria. It will use a generic GPU kernel as fallback when running on GPU.\n",
      "167/167 [==============================] - 131s 768ms/step - loss: 0.5127 - accuracy: 0.7480 - val_loss: 0.3817 - val_accuracy: 0.8375\n",
      "167/167 [==============================] - 9s 54ms/step - loss: 0.3817 - accuracy: 0.8375\n",
      "Результат при тестировании: 0.3817164897918701\n",
      "Тестовая точность: 0.8375200033187866\n",
      "\n",
      "При batch_size = 175: \n",
      "\n",
      "WARNING:tensorflow:Layer lstm_9 will not use cuDNN kernels since it doesn't meet the criteria. It will use a generic GPU kernel as fallback when running on GPU.\n",
      "143/143 [==============================] - 112s 760ms/step - loss: 0.5087 - accuracy: 0.7484 - val_loss: 0.3627 - val_accuracy: 0.8400\n",
      "143/143 [==============================] - 8s 55ms/step - loss: 0.3627 - accuracy: 0.8400\n",
      "Результат при тестировании: 0.3626728951931\n",
      "Тестовая точность: 0.839959979057312\n",
      "\n",
      "При batch_size = 200: \n",
      "\n",
      "WARNING:tensorflow:Layer lstm_10 will not use cuDNN kernels since it doesn't meet the criteria. It will use a generic GPU kernel as fallback when running on GPU.\n",
      "125/125 [==============================] - 50s 384ms/step - loss: 0.5463 - accuracy: 0.7164 - val_loss: 0.3979 - val_accuracy: 0.8374\n",
      "125/125 [==============================] - 7s 56ms/step - loss: 0.3979 - accuracy: 0.8374\n",
      "Результат при тестировании: 0.39792972803115845\n",
      "Тестовая точность: 0.837440013885498\n",
      "\n",
      "При batch_size = 250: \n",
      "\n",
      "WARNING:tensorflow:Layer lstm_11 will not use cuDNN kernels since it doesn't meet the criteria. It will use a generic GPU kernel as fallback when running on GPU.\n",
      "100/100 [==============================] - 37s 346ms/step - loss: 0.5528 - accuracy: 0.6989 - val_loss: 0.3888 - val_accuracy: 0.8244\n",
      "100/100 [==============================] - 6s 55ms/step - loss: 0.3888 - accuracy: 0.8244\n",
      "Результат при тестировании: 0.3887760639190674\n",
      "Тестовая точность: 0.8244400024414062\n"
     ]
    }
   ],
   "source": [
    "for q in [150, 175, 200, 250]:\n",
    "  print(f'\\nПри batch_size = {q}:', '\\n', )\n",
    "  compare(20000, 125, q)"
   ]
  },
  {
   "cell_type": "markdown",
   "metadata": {
    "id": "8e-3wQBz-t9E"
   },
   "source": [
    "Рост значения параметра **max_features** сначала приводит к росту точности в интервале (15000, 17500), но затем дальнейший рост приводит к падению.\n",
    "\n",
    "Увеличение параметра **maxlen** позволяет повысить значение точности.\n",
    "\n",
    "Рост параметра **batch_size** приводит к росту точности в интервале (150, 175), но затем дальнейший рост приводит к ее падению."
   ]
  },
  {
   "cell_type": "code",
   "execution_count": 8,
   "metadata": {
    "id": "c9qVv52gBUii"
   },
   "outputs": [],
   "source": [
    "# Построчное чтение файла Alice_in_Wonderland\n",
    "\n",
    "with open(\"/content/Alice_in_Wonderland.txt\", 'rb') as _in:\n",
    "    lines = []\n",
    "    for line in _in:\n",
    "        line = line.strip().lower().decode(\"ascii\", \"ignore\")\n",
    "        if len(line) == 0:\n",
    "            continue\n",
    "        lines.append(line)\n",
    "text = \" \".join(lines)\n",
    "chars = set([c for c in text])\n",
    "nb_chars = len(chars)"
   ]
  },
  {
   "cell_type": "code",
   "execution_count": 9,
   "metadata": {
    "id": "Y3TdzkKqCIuJ"
   },
   "outputs": [],
   "source": [
    "char2index = {c: i for i, c in enumerate(chars)}\n",
    "index2char = {i: c for i, c in enumerate(chars)}"
   ]
  },
  {
   "cell_type": "code",
   "execution_count": 10,
   "metadata": {
    "id": "ZRw7YCjlDoAF"
   },
   "outputs": [],
   "source": [
    "SEQLEN, STEP = 20, 1\n",
    "input_chars, label_chars = [], []"
   ]
  },
  {
   "cell_type": "code",
   "execution_count": 11,
   "metadata": {
    "id": "xK-bCWxQDsBZ"
   },
   "outputs": [],
   "source": [
    "# Конвертация data в серии разных SEQLEN-length субпоследовательностей\n",
    "\n",
    "for i in range(0, len(text) - SEQLEN, STEP):\n",
    "    input_chars.append(text[i: i + SEQLEN])\n",
    "    label_chars.append(text[i + SEQLEN])"
   ]
  },
  {
   "cell_type": "code",
   "execution_count": 12,
   "metadata": {
    "id": "m-b80ZKqDyYC"
   },
   "outputs": [],
   "source": [
    "# Вычисление one-hot encoding входных последовательностей X и следующего символа (the label) y\n",
    "\n",
    "X = np.zeros((len(input_chars), SEQLEN, nb_chars), dtype=np.bool)\n",
    "y = np.zeros((len(input_chars), nb_chars), dtype=np.bool)\n",
    "for i, input_char in enumerate(input_chars):\n",
    "    for j, ch in enumerate(input_char):\n",
    "        X[i, j, char2index[ch]] = 1\n",
    "    y[i, char2index[label_chars[i]]] = 1"
   ]
  },
  {
   "cell_type": "code",
   "execution_count": 13,
   "metadata": {
    "id": "zQjUd0f7D3X9"
   },
   "outputs": [],
   "source": [
    "# Установка ряда метапамертров  для нейронной сети и процесса тренировки\n",
    "\n",
    "BATCH_SIZE, HIDDEN_SIZE = 1024, 512\n",
    "NUM_ITERATIONS = 10 # 25 должно быть достаточно\n",
    "NUM_EPOCHS_PER_ITERATION = 5\n",
    "NUM_PREDS_PER_EPOCH = 100"
   ]
  },
  {
   "cell_type": "code",
   "execution_count": 14,
   "metadata": {
    "id": "GhRDFv4zD9Gy"
   },
   "outputs": [],
   "source": [
    "model = Sequential()\n",
    "model.add(\n",
    "    GRU(  \n",
    "        HIDDEN_SIZE,\n",
    "        return_sequences=False,\n",
    "        input_shape=(SEQLEN, nb_chars),\n",
    "        unroll=True\n",
    "    )\n",
    ")\n",
    "model.add(Dense(nb_chars))\n",
    "model.add(Activation(\"softmax\"))\n",
    "model.compile(loss=\"categorical_crossentropy\", optimizer=\"rmsprop\")"
   ]
  },
  {
   "cell_type": "code",
   "execution_count": 15,
   "metadata": {
    "colab": {
     "base_uri": "https://localhost:8080/"
    },
    "id": "ESDS6F9qEC_5",
    "outputId": "0df83337-b202-4e46-e316-41936db144aa"
   },
   "outputs": [
    {
     "name": "stdout",
     "output_type": "stream",
     "text": [
      "==================================================\n",
      "Итерация #: 0\n",
      "Epoch 1/5\n",
      "156/156 [==============================] - 28s 122ms/step - loss: 2.6799\n",
      "Epoch 2/5\n",
      "156/156 [==============================] - 19s 122ms/step - loss: 2.0912\n",
      "Epoch 3/5\n",
      "156/156 [==============================] - 19s 122ms/step - loss: 1.9054\n",
      "Epoch 4/5\n",
      "156/156 [==============================] - 19s 122ms/step - loss: 1.7726\n",
      "Epoch 5/5\n",
      "156/156 [==============================] - 19s 122ms/step - loss: 1.6655\n",
      "Генерация из посева: nnyworth only of bea\n",
      "nnyworth only of beatting of the works of the works of the works of the works of the works of the works of the works of ==================================================\n",
      "Итерация #: 1\n",
      "Epoch 1/5\n",
      "156/156 [==============================] - 19s 122ms/step - loss: 1.5739\n",
      "Epoch 2/5\n",
      "156/156 [==============================] - 19s 122ms/step - loss: 1.4937\n",
      "Epoch 3/5\n",
      "156/156 [==============================] - 19s 121ms/step - loss: 1.4232\n",
      "Epoch 4/5\n",
      "156/156 [==============================] - 19s 121ms/step - loss: 1.3581\n",
      "Epoch 5/5\n",
      "156/156 [==============================] - 19s 121ms/step - loss: 1.2971\n",
      "Генерация из посева: ed in a moment that \n",
      "ed in a moment that she was a little beries of this marked in an onder and the king was and the king was and the king wa==================================================\n",
      "Итерация #: 2\n",
      "Epoch 1/5\n",
      "156/156 [==============================] - 19s 122ms/step - loss: 1.2419\n",
      "Epoch 2/5\n",
      "156/156 [==============================] - 19s 122ms/step - loss: 1.1858\n",
      "Epoch 3/5\n",
      "156/156 [==============================] - 19s 121ms/step - loss: 1.1328\n",
      "Epoch 4/5\n",
      "156/156 [==============================] - 19s 121ms/step - loss: 1.0783\n",
      "Epoch 5/5\n",
      "156/156 [==============================] - 19s 122ms/step - loss: 1.0232\n",
      "Генерация из посева:  the queen, but she \n",
      " the queen, but she had got it out of the work and the cook took the hatter. i cont into the gore, the knye gatess to th==================================================\n",
      "Итерация #: 3\n",
      "Epoch 1/5\n",
      "156/156 [==============================] - 19s 123ms/step - loss: 0.9676\n",
      "Epoch 2/5\n",
      "156/156 [==============================] - 19s 122ms/step - loss: 0.9106\n",
      "Epoch 3/5\n",
      "156/156 [==============================] - 19s 122ms/step - loss: 0.8531\n",
      "Epoch 4/5\n",
      "156/156 [==============================] - 19s 122ms/step - loss: 0.7932\n",
      "Epoch 5/5\n",
      "156/156 [==============================] - 19s 121ms/step - loss: 0.7331\n",
      "Генерация из посева: o back, and see how \n",
      "o back, and see how a mine in a low very mone. little gril, what was the king and a large carersilan. alice did not like==================================================\n",
      "Итерация #: 4\n",
      "Epoch 1/5\n",
      "156/156 [==============================] - 19s 122ms/step - loss: 0.6772\n",
      "Epoch 2/5\n",
      "156/156 [==============================] - 19s 122ms/step - loss: 0.6188\n",
      "Epoch 3/5\n",
      "156/156 [==============================] - 19s 122ms/step - loss: 0.5645\n",
      "Epoch 4/5\n",
      "156/156 [==============================] - 19s 122ms/step - loss: 0.5108\n",
      "Epoch 5/5\n",
      "156/156 [==============================] - 19s 121ms/step - loss: 0.4636\n",
      "Генерация из посева: t somebody ought to \n",
      "t somebody ought to said, and wandering it puzzled about her to play with and better near the catried reppections interr==================================================\n",
      "Итерация #: 5\n",
      "Epoch 1/5\n",
      "156/156 [==============================] - 19s 123ms/step - loss: 0.4175\n",
      "Epoch 2/5\n",
      "156/156 [==============================] - 19s 122ms/step - loss: 0.3755\n",
      "Epoch 3/5\n",
      "156/156 [==============================] - 19s 122ms/step - loss: 0.3400\n",
      "Epoch 4/5\n",
      "156/156 [==============================] - 19s 122ms/step - loss: 0.3078\n",
      "Epoch 5/5\n",
      "156/156 [==============================] - 19s 121ms/step - loss: 0.2813\n",
      "Генерация из посева: ) he did not look at\n",
      ") he did not look at all a food to ask turtres are arr wert to come behind alice welt even she and weth one wey so than ==================================================\n",
      "Итерация #: 6\n",
      "Epoch 1/5\n",
      "156/156 [==============================] - 19s 123ms/step - loss: 0.2577\n",
      "Epoch 2/5\n",
      "156/156 [==============================] - 19s 122ms/step - loss: 0.2375\n",
      "Epoch 3/5\n",
      "156/156 [==============================] - 19s 121ms/step - loss: 0.2218\n",
      "Epoch 4/5\n",
      "156/156 [==============================] - 19s 121ms/step - loss: 0.2063\n",
      "Epoch 5/5\n",
      "156/156 [==============================] - 19s 121ms/step - loss: 0.1922\n",
      "Генерация из посева: inly english. i dont\n",
      "inly english. i dont quite understand you, she said, as solenned to a dry undir quiee of a grown a back, an she hed if y==================================================\n",
      "Итерация #: 7\n",
      "Epoch 1/5\n",
      "156/156 [==============================] - 19s 123ms/step - loss: 0.1852\n",
      "Epoch 2/5\n",
      "156/156 [==============================] - 19s 122ms/step - loss: 0.1760\n",
      "Epoch 3/5\n",
      "156/156 [==============================] - 19s 121ms/step - loss: 0.1666\n",
      "Epoch 4/5\n",
      "156/156 [==============================] - 19s 122ms/step - loss: 0.1602\n",
      "Epoch 5/5\n",
      "156/156 [==============================] - 19s 121ms/step - loss: 0.1554\n",
      "Генерация из посева: - here the dormouse \n",
      "- here the dormouse shook itself, and began singing about as she could. the games going on the antweret. as if i wish yo==================================================\n",
      "Итерация #: 8\n",
      "Epoch 1/5\n",
      "156/156 [==============================] - 19s 122ms/step - loss: 0.1490\n",
      "Epoch 2/5\n",
      "156/156 [==============================] - 19s 122ms/step - loss: 0.1475\n",
      "Epoch 3/5\n",
      "156/156 [==============================] - 19s 121ms/step - loss: 0.1402\n",
      "Epoch 4/5\n",
      "156/156 [==============================] - 19s 121ms/step - loss: 0.1391\n",
      "Epoch 5/5\n",
      "156/156 [==============================] - 19s 121ms/step - loss: 0.1348\n",
      "Генерация из посева:  a long hookah, and \n",
      " a long hookah, and waing to the pulpie to yot alloe first-- on it id the woold on the triel agrie, you know. i dont kno==================================================\n",
      "Итерация #: 9\n",
      "Epoch 1/5\n",
      "156/156 [==============================] - 19s 122ms/step - loss: 0.1318\n",
      "Epoch 2/5\n",
      "156/156 [==============================] - 19s 122ms/step - loss: 0.1294\n",
      "Epoch 3/5\n",
      "156/156 [==============================] - 19s 122ms/step - loss: 0.1264\n",
      "Epoch 4/5\n",
      "156/156 [==============================] - 19s 122ms/step - loss: 0.1247\n",
      "Epoch 5/5\n",
      "156/156 [==============================] - 19s 122ms/step - loss: 0.1228\n",
      "Генерация из посева: d very nearly carrie\n",
      "d very nearly carried it off. if everybody minded their oundedition. alice leart my thoughttelly: when she lee deat, and\n"
     ]
    }
   ],
   "source": [
    "# Выполнение серий тренировочных и демонстрационных итераций \n",
    "\n",
    "for iteration in range(NUM_ITERATIONS):\n",
    "\n",
    "    # Для каждой итерации запуск передачи данных в модель \n",
    "    print(\"=\" * 50)\n",
    "    print(\"Итерация #: %d\" % (iteration))\n",
    "    model.fit(X, y, batch_size=BATCH_SIZE, epochs=NUM_EPOCHS_PER_ITERATION)\n",
    "\n",
    "    test_idx = np.random.randint(len(input_chars))\n",
    "    test_chars = input_chars[test_idx]\n",
    "\n",
    "    print(\"Генерация из посева: %s\" % (test_chars))\n",
    "    print(test_chars, end=\"\")\n",
    "    for i in range(NUM_PREDS_PER_EPOCH):\n",
    "\n",
    "        X_test = np.zeros((1, SEQLEN, nb_chars))\n",
    "        for j, ch in enumerate(test_chars):\n",
    "            X_test[0, j, char2index[ch]] = 1\n",
    "\n",
    "        pred = model.predict(X_test, verbose=0)[0]\n",
    "        y_pred = index2char[np.argmax(pred)]\n",
    "\n",
    "        print(y_pred, end=\"\")\n",
    "\n",
    "        test_chars = test_chars[1:] + y_pred\n",
    "print()"
   ]
  },
  {
   "cell_type": "markdown",
   "metadata": {
    "id": "hXOxba7iMMBG"
   },
   "source": [
    "1. Было увеличино количество итераций, чтобы модель успела обучиться должным образом.\n",
    "2. При увеличении HIDDEN_SIZE модель обучается быстрее (loss снижается быстрее), так как модель становится лучше.\n",
    "3. При увеличении SEQLEN модель обучается быстрее, но каждая эпоха длится дольше, так как модель обучается на более длинной последовательности слов.\n",
    "\n",
    "Варианты решения проблемы исчезающего градиента в RNN:\n",
    "1. Использование архитектур наподобие LSTM;\n",
    "2. Инициализировать веса так, чтобы минимизировать вероятность затухания градиентов."
   ]
  },
  {
   "cell_type": "code",
   "execution_count": 15,
   "metadata": {
    "id": "RBBqem3hMZiI"
   },
   "outputs": [],
   "source": []
  }
 ],
 "metadata": {
  "accelerator": "GPU",
  "colab": {
   "collapsed_sections": [],
   "name": "Experimental.ipynb",
   "provenance": []
  },
  "kernelspec": {
   "display_name": "Python 3",
   "language": "python",
   "name": "python3"
  },
  "language_info": {
   "codemirror_mode": {
    "name": "ipython",
    "version": 3
   },
   "file_extension": ".py",
   "mimetype": "text/x-python",
   "name": "python",
   "nbconvert_exporter": "python",
   "pygments_lexer": "ipython3",
   "version": "3.8.5"
  }
 },
 "nbformat": 4,
 "nbformat_minor": 1
}
